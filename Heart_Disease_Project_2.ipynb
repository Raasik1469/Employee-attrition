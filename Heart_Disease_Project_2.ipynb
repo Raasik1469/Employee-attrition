{
  "nbformat": 4,
  "nbformat_minor": 0,
  "metadata": {
    "colab": {
      "name": "Heart_Disease - Project 2",
      "version": "0.3.2",
      "provenance": [],
      "collapsed_sections": [],
      "toc_visible": true
    },
    "kernelspec": {
      "name": "python3",
      "display_name": "Python 3"
    }
  },
  "cells": [
    {
      "metadata": {
        "id": "jtyPAG5vOvni",
        "colab_type": "text"
      },
      "cell_type": "markdown",
      "source": [
        "# Prescence of HEART DISEASE "
      ]
    },
    {
      "metadata": {
        "id": "xjzEv9e8Ovbi",
        "colab_type": "text"
      },
      "cell_type": "markdown",
      "source": [
        "## EDA -1 "
      ]
    },
    {
      "metadata": {
        "id": "1fAz0e8YPFzD",
        "colab_type": "text"
      },
      "cell_type": "markdown",
      "source": [
        "**Importing basice packages**\n",
        "\n",
        "\n",
        "\n",
        "\n",
        "\n",
        "\n"
      ]
    },
    {
      "metadata": {
        "id": "RGpi7yetLPXH",
        "colab_type": "code",
        "colab": {}
      },
      "cell_type": "code",
      "source": [
        "import pandas as pd\n",
        "import numpy as np\n",
        "from scipy.stats import randint as sp_randint\n",
        "import matplotlib.pyplot as plt\n",
        "import seaborn as sns\n",
        "import warnings"
      ],
      "execution_count": 0,
      "outputs": []
    },
    {
      "metadata": {
        "id": "aHbsY_D6kIoN",
        "colab_type": "code",
        "colab": {}
      },
      "cell_type": "code",
      "source": [
        "warnings.filterwarnings(\"ignore\")"
      ],
      "execution_count": 0,
      "outputs": []
    },
    {
      "metadata": {
        "id": "jysefdmqPNwb",
        "colab_type": "text"
      },
      "cell_type": "markdown",
      "source": [
        "**General Insights**"
      ]
    },
    {
      "metadata": {
        "id": "oebZORo_OD7g",
        "colab_type": "code",
        "colab": {}
      },
      "cell_type": "code",
      "source": [
        "heart_data = pd.read_csv('heart.csv')"
      ],
      "execution_count": 0,
      "outputs": []
    },
    {
      "metadata": {
        "id": "-tk6Ke4ZPZcN",
        "colab_type": "text"
      },
      "cell_type": "markdown",
      "source": [
        "\n",
        "**Attribute Information: **\n",
        "\n",
        "*  **age: age in years**\n",
        "\n",
        "*   **sex: sex** (1 = male; 0 = female)\n",
        "\n",
        "*   **cp: chest pain type** -- Value 1: typical angina -- Value 2: atypical angina -- Value 3: non-anginal pain -- Value 4: asymptomatic 10\n",
        "\n",
        "*  **trestbps: resting blood pressure** (in mm Hg on admission to the hospital)\n",
        "\n",
        "*   **chol: serum cholestoral** in mg/dl\n",
        "\n",
        "*  **fbs: (fasting blood sugar > 120 mg/dl)** (1 = true; 0 = false)\n",
        "\n",
        "*   **restecg: resting electrocardiographic results** -- Value 0: normal -- Value 1: having ST-T wave abnormality \n",
        "Value 2: showing probable or definite left ventricular hypertrophy by Estes' criteria 20 ekgmo\n",
        "\n",
        "*   ** thalach: maximum heart rate achieved**\n",
        "*  **exang: exercise induced angina **(1 = yes; 0 = no)\n",
        "\n",
        "\n",
        "*  ** oldpeak = ST depression induced by exercise relative to rest**\n",
        "\n",
        "\n",
        "*   **slope: the slope of the peak exercise ST segment** -- Value 1: upsloping -- Value 2: flat -- Value 3: downsloping\n",
        "\n",
        "\n",
        "*   **ca: number of major vessels** (0-3) colored by flourosopy\n",
        "\n",
        "\n",
        "*   ** thal: thalassemia**-- 3 = normal; 6 = fixed defect; 7 = reversable defect\n",
        "\n",
        "\n"
      ]
    },
    {
      "metadata": {
        "id": "Fhuwvq4AODzv",
        "colab_type": "code",
        "outputId": "f988a8ae-5d3e-4ae7-cacb-0ade5c5136a9",
        "colab": {
          "base_uri": "https://localhost:8080/",
          "height": 204
        }
      },
      "cell_type": "code",
      "source": [
        "heart_data.head()"
      ],
      "execution_count": 5,
      "outputs": [
        {
          "output_type": "execute_result",
          "data": {
            "text/html": [
              "<div>\n",
              "<style scoped>\n",
              "    .dataframe tbody tr th:only-of-type {\n",
              "        vertical-align: middle;\n",
              "    }\n",
              "\n",
              "    .dataframe tbody tr th {\n",
              "        vertical-align: top;\n",
              "    }\n",
              "\n",
              "    .dataframe thead th {\n",
              "        text-align: right;\n",
              "    }\n",
              "</style>\n",
              "<table border=\"1\" class=\"dataframe\">\n",
              "  <thead>\n",
              "    <tr style=\"text-align: right;\">\n",
              "      <th></th>\n",
              "      <th>age</th>\n",
              "      <th>sex</th>\n",
              "      <th>cp</th>\n",
              "      <th>trestbps</th>\n",
              "      <th>chol</th>\n",
              "      <th>fbs</th>\n",
              "      <th>restecg</th>\n",
              "      <th>thalach</th>\n",
              "      <th>exang</th>\n",
              "      <th>oldpeak</th>\n",
              "      <th>slope</th>\n",
              "      <th>ca</th>\n",
              "      <th>thal</th>\n",
              "      <th>target</th>\n",
              "    </tr>\n",
              "  </thead>\n",
              "  <tbody>\n",
              "    <tr>\n",
              "      <th>0</th>\n",
              "      <td>63</td>\n",
              "      <td>1</td>\n",
              "      <td>3</td>\n",
              "      <td>145</td>\n",
              "      <td>233</td>\n",
              "      <td>1</td>\n",
              "      <td>0</td>\n",
              "      <td>150</td>\n",
              "      <td>0</td>\n",
              "      <td>2.3</td>\n",
              "      <td>0</td>\n",
              "      <td>0</td>\n",
              "      <td>1</td>\n",
              "      <td>1</td>\n",
              "    </tr>\n",
              "    <tr>\n",
              "      <th>1</th>\n",
              "      <td>37</td>\n",
              "      <td>1</td>\n",
              "      <td>2</td>\n",
              "      <td>130</td>\n",
              "      <td>250</td>\n",
              "      <td>0</td>\n",
              "      <td>1</td>\n",
              "      <td>187</td>\n",
              "      <td>0</td>\n",
              "      <td>3.5</td>\n",
              "      <td>0</td>\n",
              "      <td>0</td>\n",
              "      <td>2</td>\n",
              "      <td>1</td>\n",
              "    </tr>\n",
              "    <tr>\n",
              "      <th>2</th>\n",
              "      <td>41</td>\n",
              "      <td>0</td>\n",
              "      <td>1</td>\n",
              "      <td>130</td>\n",
              "      <td>204</td>\n",
              "      <td>0</td>\n",
              "      <td>0</td>\n",
              "      <td>172</td>\n",
              "      <td>0</td>\n",
              "      <td>1.4</td>\n",
              "      <td>2</td>\n",
              "      <td>0</td>\n",
              "      <td>2</td>\n",
              "      <td>1</td>\n",
              "    </tr>\n",
              "    <tr>\n",
              "      <th>3</th>\n",
              "      <td>56</td>\n",
              "      <td>1</td>\n",
              "      <td>1</td>\n",
              "      <td>120</td>\n",
              "      <td>236</td>\n",
              "      <td>0</td>\n",
              "      <td>1</td>\n",
              "      <td>178</td>\n",
              "      <td>0</td>\n",
              "      <td>0.8</td>\n",
              "      <td>2</td>\n",
              "      <td>0</td>\n",
              "      <td>2</td>\n",
              "      <td>1</td>\n",
              "    </tr>\n",
              "    <tr>\n",
              "      <th>4</th>\n",
              "      <td>57</td>\n",
              "      <td>0</td>\n",
              "      <td>0</td>\n",
              "      <td>120</td>\n",
              "      <td>354</td>\n",
              "      <td>0</td>\n",
              "      <td>1</td>\n",
              "      <td>163</td>\n",
              "      <td>1</td>\n",
              "      <td>0.6</td>\n",
              "      <td>2</td>\n",
              "      <td>0</td>\n",
              "      <td>2</td>\n",
              "      <td>1</td>\n",
              "    </tr>\n",
              "  </tbody>\n",
              "</table>\n",
              "</div>"
            ],
            "text/plain": [
              "   age  sex  cp  trestbps  chol  fbs  restecg  thalach  exang  oldpeak  slope  \\\n",
              "0   63    1   3       145   233    1        0      150      0      2.3      0   \n",
              "1   37    1   2       130   250    0        1      187      0      3.5      0   \n",
              "2   41    0   1       130   204    0        0      172      0      1.4      2   \n",
              "3   56    1   1       120   236    0        1      178      0      0.8      2   \n",
              "4   57    0   0       120   354    0        1      163      1      0.6      2   \n",
              "\n",
              "   ca  thal  target  \n",
              "0   0     1       1  \n",
              "1   0     2       1  \n",
              "2   0     2       1  \n",
              "3   0     2       1  \n",
              "4   0     2       1  "
            ]
          },
          "metadata": {
            "tags": []
          },
          "execution_count": 5
        }
      ]
    },
    {
      "metadata": {
        "id": "qgnXAZtkOZMQ",
        "colab_type": "code",
        "outputId": "aa9ecc2c-e9cc-4185-ed91-151806a948c4",
        "colab": {
          "base_uri": "https://localhost:8080/",
          "height": 51
        }
      },
      "cell_type": "code",
      "source": [
        "print('Number of Rows:', heart_data.shape[0])\n",
        "print('Number of Feautures:', heart_data.shape[1])"
      ],
      "execution_count": 6,
      "outputs": [
        {
          "output_type": "stream",
          "text": [
            "Number of Rows: 303\n",
            "Number of Feautures: 14\n"
          ],
          "name": "stdout"
        }
      ]
    },
    {
      "metadata": {
        "id": "67QT2tYZP0jt",
        "colab_type": "code",
        "outputId": "0d9efeda-24c8-4814-9239-d6c9f72cbb8a",
        "colab": {
          "base_uri": "https://localhost:8080/",
          "height": 340
        }
      },
      "cell_type": "code",
      "source": [
        "heart_data.info()"
      ],
      "execution_count": 7,
      "outputs": [
        {
          "output_type": "stream",
          "text": [
            "<class 'pandas.core.frame.DataFrame'>\n",
            "RangeIndex: 303 entries, 0 to 302\n",
            "Data columns (total 14 columns):\n",
            "age         303 non-null int64\n",
            "sex         303 non-null int64\n",
            "cp          303 non-null int64\n",
            "trestbps    303 non-null int64\n",
            "chol        303 non-null int64\n",
            "fbs         303 non-null int64\n",
            "restecg     303 non-null int64\n",
            "thalach     303 non-null int64\n",
            "exang       303 non-null int64\n",
            "oldpeak     303 non-null float64\n",
            "slope       303 non-null int64\n",
            "ca          303 non-null int64\n",
            "thal        303 non-null int64\n",
            "target      303 non-null int64\n",
            "dtypes: float64(1), int64(13)\n",
            "memory usage: 33.2 KB\n"
          ],
          "name": "stdout"
        }
      ]
    },
    {
      "metadata": {
        "id": "ZT_B-DPJQClO",
        "colab_type": "text"
      },
      "cell_type": "markdown",
      "source": [
        "No Null Values found. Good Data Collection"
      ]
    },
    {
      "metadata": {
        "id": "XUlK649HqqYC",
        "colab_type": "text"
      },
      "cell_type": "markdown",
      "source": [
        "**For the purpose of Data Anaysis lets convert the numerical columns to categorical columns for better understanding**"
      ]
    },
    {
      "metadata": {
        "id": "Mi4s6Lhe9pci",
        "colab_type": "code",
        "colab": {}
      },
      "cell_type": "code",
      "source": [
        "heart_data.columns = ['Age', 'Sex',  'Chest_pain_type', 'Resting_blood_pressure', 'Serum_cholestoral(mg/dl)', 'Fasting_blood_sugar(mg/dl)', 'Resting_ECG_results', 'Max_heart_rate'\n",
        "                    , 'Exercise_induced_angina', 'Oldpeak', 'Slope', 'No.of_major_vessels', 'thalassemia','target']"
      ],
      "execution_count": 0,
      "outputs": []
    },
    {
      "metadata": {
        "id": "b_XddSl19xdG",
        "colab_type": "code",
        "outputId": "c93150d2-0a5c-464d-e34c-bb53c0beb98e",
        "colab": {
          "base_uri": "https://localhost:8080/",
          "height": 224
        }
      },
      "cell_type": "code",
      "source": [
        "heart_data.head()"
      ],
      "execution_count": 9,
      "outputs": [
        {
          "output_type": "execute_result",
          "data": {
            "text/html": [
              "<div>\n",
              "<style scoped>\n",
              "    .dataframe tbody tr th:only-of-type {\n",
              "        vertical-align: middle;\n",
              "    }\n",
              "\n",
              "    .dataframe tbody tr th {\n",
              "        vertical-align: top;\n",
              "    }\n",
              "\n",
              "    .dataframe thead th {\n",
              "        text-align: right;\n",
              "    }\n",
              "</style>\n",
              "<table border=\"1\" class=\"dataframe\">\n",
              "  <thead>\n",
              "    <tr style=\"text-align: right;\">\n",
              "      <th></th>\n",
              "      <th>Age</th>\n",
              "      <th>Sex</th>\n",
              "      <th>Chest_pain_type</th>\n",
              "      <th>Resting_blood_pressure</th>\n",
              "      <th>Serum_cholestoral(mg/dl)</th>\n",
              "      <th>Fasting_blood_sugar(mg/dl)</th>\n",
              "      <th>Resting_ECG_results</th>\n",
              "      <th>Max_heart_rate</th>\n",
              "      <th>Exercise_induced_angina</th>\n",
              "      <th>Oldpeak</th>\n",
              "      <th>Slope</th>\n",
              "      <th>No.of_major_vessels</th>\n",
              "      <th>thalassemia</th>\n",
              "      <th>target</th>\n",
              "    </tr>\n",
              "  </thead>\n",
              "  <tbody>\n",
              "    <tr>\n",
              "      <th>0</th>\n",
              "      <td>63</td>\n",
              "      <td>1</td>\n",
              "      <td>3</td>\n",
              "      <td>145</td>\n",
              "      <td>233</td>\n",
              "      <td>1</td>\n",
              "      <td>0</td>\n",
              "      <td>150</td>\n",
              "      <td>0</td>\n",
              "      <td>2.3</td>\n",
              "      <td>0</td>\n",
              "      <td>0</td>\n",
              "      <td>1</td>\n",
              "      <td>1</td>\n",
              "    </tr>\n",
              "    <tr>\n",
              "      <th>1</th>\n",
              "      <td>37</td>\n",
              "      <td>1</td>\n",
              "      <td>2</td>\n",
              "      <td>130</td>\n",
              "      <td>250</td>\n",
              "      <td>0</td>\n",
              "      <td>1</td>\n",
              "      <td>187</td>\n",
              "      <td>0</td>\n",
              "      <td>3.5</td>\n",
              "      <td>0</td>\n",
              "      <td>0</td>\n",
              "      <td>2</td>\n",
              "      <td>1</td>\n",
              "    </tr>\n",
              "    <tr>\n",
              "      <th>2</th>\n",
              "      <td>41</td>\n",
              "      <td>0</td>\n",
              "      <td>1</td>\n",
              "      <td>130</td>\n",
              "      <td>204</td>\n",
              "      <td>0</td>\n",
              "      <td>0</td>\n",
              "      <td>172</td>\n",
              "      <td>0</td>\n",
              "      <td>1.4</td>\n",
              "      <td>2</td>\n",
              "      <td>0</td>\n",
              "      <td>2</td>\n",
              "      <td>1</td>\n",
              "    </tr>\n",
              "    <tr>\n",
              "      <th>3</th>\n",
              "      <td>56</td>\n",
              "      <td>1</td>\n",
              "      <td>1</td>\n",
              "      <td>120</td>\n",
              "      <td>236</td>\n",
              "      <td>0</td>\n",
              "      <td>1</td>\n",
              "      <td>178</td>\n",
              "      <td>0</td>\n",
              "      <td>0.8</td>\n",
              "      <td>2</td>\n",
              "      <td>0</td>\n",
              "      <td>2</td>\n",
              "      <td>1</td>\n",
              "    </tr>\n",
              "    <tr>\n",
              "      <th>4</th>\n",
              "      <td>57</td>\n",
              "      <td>0</td>\n",
              "      <td>0</td>\n",
              "      <td>120</td>\n",
              "      <td>354</td>\n",
              "      <td>0</td>\n",
              "      <td>1</td>\n",
              "      <td>163</td>\n",
              "      <td>1</td>\n",
              "      <td>0.6</td>\n",
              "      <td>2</td>\n",
              "      <td>0</td>\n",
              "      <td>2</td>\n",
              "      <td>1</td>\n",
              "    </tr>\n",
              "  </tbody>\n",
              "</table>\n",
              "</div>"
            ],
            "text/plain": [
              "   Age  Sex  Chest_pain_type  Resting_blood_pressure  \\\n",
              "0   63    1                3                     145   \n",
              "1   37    1                2                     130   \n",
              "2   41    0                1                     130   \n",
              "3   56    1                1                     120   \n",
              "4   57    0                0                     120   \n",
              "\n",
              "   Serum_cholestoral(mg/dl)  Fasting_blood_sugar(mg/dl)  Resting_ECG_results  \\\n",
              "0                       233                           1                    0   \n",
              "1                       250                           0                    1   \n",
              "2                       204                           0                    0   \n",
              "3                       236                           0                    1   \n",
              "4                       354                           0                    1   \n",
              "\n",
              "   Max_heart_rate  Exercise_induced_angina  Oldpeak  Slope  \\\n",
              "0             150                        0      2.3      0   \n",
              "1             187                        0      3.5      0   \n",
              "2             172                        0      1.4      2   \n",
              "3             178                        0      0.8      2   \n",
              "4             163                        1      0.6      2   \n",
              "\n",
              "   No.of_major_vessels  thalassemia  target  \n",
              "0                    0            1       1  \n",
              "1                    0            2       1  \n",
              "2                    0            2       1  \n",
              "3                    0            2       1  \n",
              "4                    0            2       1  "
            ]
          },
          "metadata": {
            "tags": []
          },
          "execution_count": 9
        }
      ]
    },
    {
      "metadata": {
        "id": "eR5lGcYaIQYY",
        "colab_type": "code",
        "colab": {}
      },
      "cell_type": "code",
      "source": [
        "data_sample = heart_data.copy()"
      ],
      "execution_count": 0,
      "outputs": []
    },
    {
      "metadata": {
        "colab_type": "code",
        "id": "Fw9BogPeBDWw",
        "colab": {}
      },
      "cell_type": "code",
      "source": [
        "data_sample['Sex'][data_sample['Sex']==1]='Male' \n",
        "data_sample['Sex'][data_sample['Sex']==0]='Female'\n",
        "\n",
        "data_sample['Chest_pain_type'][data_sample['Chest_pain_type'] == 1] = 'typical angina' \n",
        "data_sample['Chest_pain_type'][data_sample['Chest_pain_type'] == 2] = 'atypical angina' \n",
        "data_sample['Chest_pain_type'][data_sample['Chest_pain_type'] == 3] = 'non-anginal pain' \n",
        "data_sample['Chest_pain_type'][data_sample['Chest_pain_type'] == 4] = 'asymptomatic'\n",
        "\n",
        "data_sample['Fasting_blood_sugar(mg/dl)'][data_sample['Fasting_blood_sugar(mg/dl)'] == 0] = 'lower than 120mg/ml' \n",
        "data_sample['Fasting_blood_sugar(mg/dl)'][data_sample['Fasting_blood_sugar(mg/dl)'] == 1] = 'greater than 120mg/ml'\n",
        "\n",
        "data_sample['Resting_ECG_results'][data_sample['Resting_ECG_results'] == 0] = 'normal' \n",
        "data_sample['Resting_ECG_results'][data_sample['Resting_ECG_results'] == 1] = 'ST-T wave abnormality' \n",
        "data_sample['Resting_ECG_results'][data_sample['Resting_ECG_results'] == 2] = 'left ventricular hypertrophy'\n",
        "\n",
        "data_sample['Exercise_induced_angina'][data_sample['Exercise_induced_angina'] == 0] = 'no' \n",
        "data_sample['Exercise_induced_angina'][data_sample['Exercise_induced_angina'] == 1] = 'yes'\n",
        "\n",
        "data_sample['Slope'][data_sample['Slope'] == 1] = 'upsloping' \n",
        "data_sample['Slope'][data_sample['Slope'] == 2] = 'flat' \n",
        "data_sample['Slope'][data_sample['Slope'] == 3] = 'downsloping'\n",
        "\n",
        "data_sample['thalassemia'][data_sample['thalassemia'] == 1] = 'normal' \n",
        "data_sample['thalassemia'][data_sample['thalassemia'] == 2] = 'fixed defect' \n",
        "data_sample['thalassemia'][data_sample['thalassemia'] == 3] = 'reversable defect'\n"
      ],
      "execution_count": 0,
      "outputs": []
    },
    {
      "metadata": {
        "id": "KdBRwZTe6_RW",
        "colab_type": "code",
        "outputId": "0ec2c66f-0b88-471b-a792-b57859cb6fef",
        "colab": {
          "base_uri": "https://localhost:8080/",
          "height": 224
        }
      },
      "cell_type": "code",
      "source": [
        "heart_data.head()"
      ],
      "execution_count": 12,
      "outputs": [
        {
          "output_type": "execute_result",
          "data": {
            "text/html": [
              "<div>\n",
              "<style scoped>\n",
              "    .dataframe tbody tr th:only-of-type {\n",
              "        vertical-align: middle;\n",
              "    }\n",
              "\n",
              "    .dataframe tbody tr th {\n",
              "        vertical-align: top;\n",
              "    }\n",
              "\n",
              "    .dataframe thead th {\n",
              "        text-align: right;\n",
              "    }\n",
              "</style>\n",
              "<table border=\"1\" class=\"dataframe\">\n",
              "  <thead>\n",
              "    <tr style=\"text-align: right;\">\n",
              "      <th></th>\n",
              "      <th>Age</th>\n",
              "      <th>Sex</th>\n",
              "      <th>Chest_pain_type</th>\n",
              "      <th>Resting_blood_pressure</th>\n",
              "      <th>Serum_cholestoral(mg/dl)</th>\n",
              "      <th>Fasting_blood_sugar(mg/dl)</th>\n",
              "      <th>Resting_ECG_results</th>\n",
              "      <th>Max_heart_rate</th>\n",
              "      <th>Exercise_induced_angina</th>\n",
              "      <th>Oldpeak</th>\n",
              "      <th>Slope</th>\n",
              "      <th>No.of_major_vessels</th>\n",
              "      <th>thalassemia</th>\n",
              "      <th>target</th>\n",
              "    </tr>\n",
              "  </thead>\n",
              "  <tbody>\n",
              "    <tr>\n",
              "      <th>0</th>\n",
              "      <td>63</td>\n",
              "      <td>1</td>\n",
              "      <td>3</td>\n",
              "      <td>145</td>\n",
              "      <td>233</td>\n",
              "      <td>1</td>\n",
              "      <td>0</td>\n",
              "      <td>150</td>\n",
              "      <td>0</td>\n",
              "      <td>2.3</td>\n",
              "      <td>0</td>\n",
              "      <td>0</td>\n",
              "      <td>1</td>\n",
              "      <td>1</td>\n",
              "    </tr>\n",
              "    <tr>\n",
              "      <th>1</th>\n",
              "      <td>37</td>\n",
              "      <td>1</td>\n",
              "      <td>2</td>\n",
              "      <td>130</td>\n",
              "      <td>250</td>\n",
              "      <td>0</td>\n",
              "      <td>1</td>\n",
              "      <td>187</td>\n",
              "      <td>0</td>\n",
              "      <td>3.5</td>\n",
              "      <td>0</td>\n",
              "      <td>0</td>\n",
              "      <td>2</td>\n",
              "      <td>1</td>\n",
              "    </tr>\n",
              "    <tr>\n",
              "      <th>2</th>\n",
              "      <td>41</td>\n",
              "      <td>0</td>\n",
              "      <td>1</td>\n",
              "      <td>130</td>\n",
              "      <td>204</td>\n",
              "      <td>0</td>\n",
              "      <td>0</td>\n",
              "      <td>172</td>\n",
              "      <td>0</td>\n",
              "      <td>1.4</td>\n",
              "      <td>2</td>\n",
              "      <td>0</td>\n",
              "      <td>2</td>\n",
              "      <td>1</td>\n",
              "    </tr>\n",
              "    <tr>\n",
              "      <th>3</th>\n",
              "      <td>56</td>\n",
              "      <td>1</td>\n",
              "      <td>1</td>\n",
              "      <td>120</td>\n",
              "      <td>236</td>\n",
              "      <td>0</td>\n",
              "      <td>1</td>\n",
              "      <td>178</td>\n",
              "      <td>0</td>\n",
              "      <td>0.8</td>\n",
              "      <td>2</td>\n",
              "      <td>0</td>\n",
              "      <td>2</td>\n",
              "      <td>1</td>\n",
              "    </tr>\n",
              "    <tr>\n",
              "      <th>4</th>\n",
              "      <td>57</td>\n",
              "      <td>0</td>\n",
              "      <td>0</td>\n",
              "      <td>120</td>\n",
              "      <td>354</td>\n",
              "      <td>0</td>\n",
              "      <td>1</td>\n",
              "      <td>163</td>\n",
              "      <td>1</td>\n",
              "      <td>0.6</td>\n",
              "      <td>2</td>\n",
              "      <td>0</td>\n",
              "      <td>2</td>\n",
              "      <td>1</td>\n",
              "    </tr>\n",
              "  </tbody>\n",
              "</table>\n",
              "</div>"
            ],
            "text/plain": [
              "   Age  Sex  Chest_pain_type  Resting_blood_pressure  \\\n",
              "0   63    1                3                     145   \n",
              "1   37    1                2                     130   \n",
              "2   41    0                1                     130   \n",
              "3   56    1                1                     120   \n",
              "4   57    0                0                     120   \n",
              "\n",
              "   Serum_cholestoral(mg/dl)  Fasting_blood_sugar(mg/dl)  Resting_ECG_results  \\\n",
              "0                       233                           1                    0   \n",
              "1                       250                           0                    1   \n",
              "2                       204                           0                    0   \n",
              "3                       236                           0                    1   \n",
              "4                       354                           0                    1   \n",
              "\n",
              "   Max_heart_rate  Exercise_induced_angina  Oldpeak  Slope  \\\n",
              "0             150                        0      2.3      0   \n",
              "1             187                        0      3.5      0   \n",
              "2             172                        0      1.4      2   \n",
              "3             178                        0      0.8      2   \n",
              "4             163                        1      0.6      2   \n",
              "\n",
              "   No.of_major_vessels  thalassemia  target  \n",
              "0                    0            1       1  \n",
              "1                    0            2       1  \n",
              "2                    0            2       1  \n",
              "3                    0            2       1  \n",
              "4                    0            2       1  "
            ]
          },
          "metadata": {
            "tags": []
          },
          "execution_count": 12
        }
      ]
    },
    {
      "metadata": {
        "id": "N4yhhiL4MaZD",
        "colab_type": "code",
        "outputId": "83b7ae45-3df4-4a73-8ae7-a71c9268b415",
        "colab": {
          "base_uri": "https://localhost:8080/",
          "height": 136
        }
      },
      "cell_type": "code",
      "source": [
        "print(data_sample['Sex'].unique())\n",
        "print(data_sample['Chest_pain_type'].unique())\n",
        "print(data_sample['Fasting_blood_sugar(mg/dl)'].unique())\n",
        "print(data_sample['Resting_ECG_results'].unique())\n",
        "print(data_sample['Exercise_induced_angina'].unique())\n",
        "print(data_sample['Slope'].unique())\n",
        "print(data_sample['thalassemia'].unique())"
      ],
      "execution_count": 13,
      "outputs": [
        {
          "output_type": "stream",
          "text": [
            "['Male' 'Female']\n",
            "['non-anginal pain' 'atypical angina' 'typical angina' 0]\n",
            "['greater than 120mg/ml' 'lower than 120mg/ml']\n",
            "['normal' 'ST-T wave abnormality' 'left ventricular hypertrophy']\n",
            "['no' 'yes']\n",
            "[0 'flat' 'upsloping']\n",
            "['normal' 'fixed defect' 'reversable defect' 0]\n"
          ],
          "name": "stdout"
        }
      ]
    },
    {
      "metadata": {
        "id": "XxyBJghMHIXS",
        "colab_type": "code",
        "outputId": "a0c4a80b-03e5-4b05-ff19-404d391d5740",
        "colab": {
          "base_uri": "https://localhost:8080/",
          "height": 318
        }
      },
      "cell_type": "code",
      "source": [
        "def plot1():\n",
        "  plt.figure(figsize=(7, 5))\n",
        "  target_count = [len(data_sample[data_sample['target'] == 0]),len(data_sample[data_sample['target'] == 1])]\n",
        "  labels = ['No Disease', 'Disease']\n",
        "  colors = ['lightgreen', 'lightblue']\n",
        "  explode = (0.05, 0.1)\n",
        "  plt.pie(target_count, explode=explode, labels=labels, \n",
        "        colors=colors,autopct='%4.2f%%',shadow=True, startangle=45)\n",
        "  plt.title('Target Percent')\n",
        "  plt.axis('equal')\n",
        "  plt.show()  \n",
        "plot1()"
      ],
      "execution_count": 14,
      "outputs": [
        {
          "output_type": "display_data",
          "data": {
            "image/png": "[encoded data removed]",
            "text/plain": [
              "<Figure size 504x360 with 1 Axes>"
            ]
          },
          "metadata": {
            "tags": []
          }
        }
      ]
    },
    {
      "metadata": {
        "id": "jiJxAbX0yLSY",
        "colab_type": "text"
      },
      "cell_type": "markdown",
      "source": [
        "We have almost equaly distributed target. Not prone to class imbalance"
      ]
    },
    {
      "metadata": {
        "id": "xipt4Bj3SR-e",
        "colab_type": "code",
        "outputId": "c3009826-60d8-411e-c744-ff83592d15fc",
        "colab": {
          "base_uri": "https://localhost:8080/",
          "height": 318
        }
      },
      "cell_type": "code",
      "source": [
        "def plot2():\n",
        "  plt.figure(figsize=(7, 5))\n",
        "  sex_count = [len(data_sample[data_sample['Sex'] == 'Female']),len(data_sample[data_sample['Sex'] == 'Male'])]\n",
        "  labels = ['Female', 'Male']\n",
        "  colors = ['pink', 'orange']\n",
        "  explode = (0.05, 0.1)\n",
        "  plt.pie(sex_count, explode=explode, labels=labels, \n",
        "        colors=colors,autopct='%4.2f%%',shadow=True, startangle=80)\n",
        "  plt.title('Sex Distribution')\n",
        "  plt.axis('equal')\n",
        "  plt.show()\n",
        "  \n",
        "plot2()"
      ],
      "execution_count": 15,
      "outputs": [
        {
          "output_type": "display_data",
          "data": {
            "image/png": "[encoded data removed]",
            "text/plain": [
              "<Figure size 504x360 with 1 Axes>"
            ]
          },
          "metadata": {
            "tags": []
          }
        }
      ]
    },
    {
      "metadata": {
        "id": "kF6KGZ1qsaqc",
        "colab_type": "code",
        "outputId": "52aa02ae-5d4f-4410-bd8f-d4abe0b50d4c",
        "colab": {
          "base_uri": "https://localhost:8080/",
          "height": 620
        }
      },
      "cell_type": "code",
      "source": [
        "def plot3():\n",
        "    plt.figure(figsize=(14,10))\n",
        "    sns.distplot(data_sample['Age'])\n",
        "    plt.title('Age Distribution')\n",
        "    plt.show()\n",
        "plot3()   "
      ],
      "execution_count": 16,
      "outputs": [
        {
          "output_type": "display_data",
          "data": {
            "image/png": "[encoded data removed]",
            "text/plain": [
              "<Figure size 1008x720 with 1 Axes>"
            ]
          },
          "metadata": {
            "tags": []
          }
        }
      ]
    },
    {
      "metadata": {
        "id": "0sQqt3ud0PM2",
        "colab_type": "text"
      },
      "cell_type": "markdown",
      "source": [
        "Age seems to be somewhat normally distributed"
      ]
    },
    {
      "metadata": {
        "id": "USktwBFG0VkH",
        "colab_type": "code",
        "outputId": "f032663a-146a-40e4-8376-cd11afb3d507",
        "colab": {
          "base_uri": "https://localhost:8080/",
          "height": 224
        }
      },
      "cell_type": "code",
      "source": [
        "data_sample.head()"
      ],
      "execution_count": 17,
      "outputs": [
        {
          "output_type": "execute_result",
          "data": {
            "text/html": [
              "<div>\n",
              "<style scoped>\n",
              "    .dataframe tbody tr th:only-of-type {\n",
              "        vertical-align: middle;\n",
              "    }\n",
              "\n",
              "    .dataframe tbody tr th {\n",
              "        vertical-align: top;\n",
              "    }\n",
              "\n",
              "    .dataframe thead th {\n",
              "        text-align: right;\n",
              "    }\n",
              "</style>\n",
              "<table border=\"1\" class=\"dataframe\">\n",
              "  <thead>\n",
              "    <tr style=\"text-align: right;\">\n",
              "      <th></th>\n",
              "      <th>Age</th>\n",
              "      <th>Sex</th>\n",
              "      <th>Chest_pain_type</th>\n",
              "      <th>Resting_blood_pressure</th>\n",
              "      <th>Serum_cholestoral(mg/dl)</th>\n",
              "      <th>Fasting_blood_sugar(mg/dl)</th>\n",
              "      <th>Resting_ECG_results</th>\n",
              "      <th>Max_heart_rate</th>\n",
              "      <th>Exercise_induced_angina</th>\n",
              "      <th>Oldpeak</th>\n",
              "      <th>Slope</th>\n",
              "      <th>No.of_major_vessels</th>\n",
              "      <th>thalassemia</th>\n",
              "      <th>target</th>\n",
              "    </tr>\n",
              "  </thead>\n",
              "  <tbody>\n",
              "    <tr>\n",
              "      <th>0</th>\n",
              "      <td>63</td>\n",
              "      <td>Male</td>\n",
              "      <td>non-anginal pain</td>\n",
              "      <td>145</td>\n",
              "      <td>233</td>\n",
              "      <td>greater than 120mg/ml</td>\n",
              "      <td>normal</td>\n",
              "      <td>150</td>\n",
              "      <td>no</td>\n",
              "      <td>2.3</td>\n",
              "      <td>0</td>\n",
              "      <td>0</td>\n",
              "      <td>normal</td>\n",
              "      <td>1</td>\n",
              "    </tr>\n",
              "    <tr>\n",
              "      <th>1</th>\n",
              "      <td>37</td>\n",
              "      <td>Male</td>\n",
              "      <td>atypical angina</td>\n",
              "      <td>130</td>\n",
              "      <td>250</td>\n",
              "      <td>lower than 120mg/ml</td>\n",
              "      <td>ST-T wave abnormality</td>\n",
              "      <td>187</td>\n",
              "      <td>no</td>\n",
              "      <td>3.5</td>\n",
              "      <td>0</td>\n",
              "      <td>0</td>\n",
              "      <td>fixed defect</td>\n",
              "      <td>1</td>\n",
              "    </tr>\n",
              "    <tr>\n",
              "      <th>2</th>\n",
              "      <td>41</td>\n",
              "      <td>Female</td>\n",
              "      <td>typical angina</td>\n",
              "      <td>130</td>\n",
              "      <td>204</td>\n",
              "      <td>lower than 120mg/ml</td>\n",
              "      <td>normal</td>\n",
              "      <td>172</td>\n",
              "      <td>no</td>\n",
              "      <td>1.4</td>\n",
              "      <td>flat</td>\n",
              "      <td>0</td>\n",
              "      <td>fixed defect</td>\n",
              "      <td>1</td>\n",
              "    </tr>\n",
              "    <tr>\n",
              "      <th>3</th>\n",
              "      <td>56</td>\n",
              "      <td>Male</td>\n",
              "      <td>typical angina</td>\n",
              "      <td>120</td>\n",
              "      <td>236</td>\n",
              "      <td>lower than 120mg/ml</td>\n",
              "      <td>ST-T wave abnormality</td>\n",
              "      <td>178</td>\n",
              "      <td>no</td>\n",
              "      <td>0.8</td>\n",
              "      <td>flat</td>\n",
              "      <td>0</td>\n",
              "      <td>fixed defect</td>\n",
              "      <td>1</td>\n",
              "    </tr>\n",
              "    <tr>\n",
              "      <th>4</th>\n",
              "      <td>57</td>\n",
              "      <td>Female</td>\n",
              "      <td>0</td>\n",
              "      <td>120</td>\n",
              "      <td>354</td>\n",
              "      <td>lower than 120mg/ml</td>\n",
              "      <td>ST-T wave abnormality</td>\n",
              "      <td>163</td>\n",
              "      <td>yes</td>\n",
              "      <td>0.6</td>\n",
              "      <td>flat</td>\n",
              "      <td>0</td>\n",
              "      <td>fixed defect</td>\n",
              "      <td>1</td>\n",
              "    </tr>\n",
              "  </tbody>\n",
              "</table>\n",
              "</div>"
            ],
            "text/plain": [
              "   Age     Sex   Chest_pain_type  Resting_blood_pressure  \\\n",
              "0   63    Male  non-anginal pain                     145   \n",
              "1   37    Male   atypical angina                     130   \n",
              "2   41  Female    typical angina                     130   \n",
              "3   56    Male    typical angina                     120   \n",
              "4   57  Female                 0                     120   \n",
              "\n",
              "   Serum_cholestoral(mg/dl) Fasting_blood_sugar(mg/dl)    Resting_ECG_results  \\\n",
              "0                       233      greater than 120mg/ml                 normal   \n",
              "1                       250        lower than 120mg/ml  ST-T wave abnormality   \n",
              "2                       204        lower than 120mg/ml                 normal   \n",
              "3                       236        lower than 120mg/ml  ST-T wave abnormality   \n",
              "4                       354        lower than 120mg/ml  ST-T wave abnormality   \n",
              "\n",
              "   Max_heart_rate Exercise_induced_angina  Oldpeak Slope  No.of_major_vessels  \\\n",
              "0             150                      no      2.3     0                    0   \n",
              "1             187                      no      3.5     0                    0   \n",
              "2             172                      no      1.4  flat                    0   \n",
              "3             178                      no      0.8  flat                    0   \n",
              "4             163                     yes      0.6  flat                    0   \n",
              "\n",
              "    thalassemia  target  \n",
              "0        normal       1  \n",
              "1  fixed defect       1  \n",
              "2  fixed defect       1  \n",
              "3  fixed defect       1  \n",
              "4  fixed defect       1  "
            ]
          },
          "metadata": {
            "tags": []
          },
          "execution_count": 17
        }
      ]
    },
    {
      "metadata": {
        "id": "s4dw4JXF2DnL",
        "colab_type": "code",
        "outputId": "4a802062-bd2c-4e55-aec4-5cea192dbdf4",
        "colab": {
          "base_uri": "https://localhost:8080/",
          "height": 403
        }
      },
      "cell_type": "code",
      "source": [
        "def plot4():\n",
        "  \n",
        "    plt.figure(figsize=(24,6))\n",
        "  \n",
        "    age_bins = [20,30,40,50,60,70,80]\n",
        "    data_sample['bin_age'] = pd.cut(data_sample['Age'], bins=age_bins)\n",
        "  \n",
        "    plt.subplot(1,3,1)\n",
        "    p1 = sns.countplot(x='Sex', data=data_sample, hue='target', palette='Set2')\n",
        "    p1.set_title('Sex type vs Heart Disease')\n",
        "    \n",
        "    plt.subplot(1,3,2)\n",
        "    p2 = sns.pointplot(x='Sex', y='Age', data=data_sample, hue='target', palette='Set2')\n",
        "    p1.set_title('Sex type vs Heart Disease')\n",
        "        \n",
        "    plt.subplot(1,3,3)\n",
        "    p3 = sns.countplot(x='bin_age', data=data_sample, hue='target', palette='Set2')\n",
        "    p3.set_title('Age vs Heart Disease')\n",
        "    \n",
        "plot4()"
      ],
      "execution_count": 18,
      "outputs": [
        {
          "output_type": "display_data",
          "data": {
            "image/png": "[encoded data removed]",
            "text/plain": [
              "<Figure size 1728x432 with 3 Axes>"
            ]
          },
          "metadata": {
            "tags": []
          }
        }
      ]
    },
    {
      "metadata": {
        "id": "eU22EEMg_Nev",
        "colab_type": "text"
      },
      "cell_type": "markdown",
      "source": [
        "**Insights: **\n",
        "\n",
        "**Figure1 shows that Male are more likely to get heart disease**\n",
        "\n",
        "**Figure 2 shows that mean age for female with heart disease is 54 and male with heart disease is 51 **\n",
        "\n",
        "**Figure 3  shows Ages between 40 to 70 are more likely to have heart diseas**\n"
      ]
    },
    {
      "metadata": {
        "id": "FCq8LUcQlHWt",
        "colab_type": "code",
        "outputId": "5ffffaec-2069-4f6a-cbac-05467c95a438",
        "colab": {
          "base_uri": "https://localhost:8080/",
          "height": 423
        }
      },
      "cell_type": "code",
      "source": [
        "def plot5():\n",
        "  \n",
        "    plt.figure(figsize=(26,6))\n",
        "    chol_bins = [100,150,200,250,300,350,400,450]\n",
        "    max_hr_bins = [60,80,100,120,140,160,180,200,220]\n",
        "    \n",
        "    data_sample['bin_chol'] = pd.cut(data_sample['Serum_cholestoral(mg/dl)'], bins=chol_bins)\n",
        "    data_sample['bin_max_hr'] = pd.cut(data_sample['Max_heart_rate'], bins=max_hr_bins)\n",
        "    \n",
        "    plt.subplot(1,3,1)\n",
        "    p1 = sns.countplot(x='Chest_pain_type', data=data_sample, hue='target', palette='OrRd')\n",
        "    p1.set_title('Chest Pain type vs Heart Disease')\n",
        "        \n",
        "    plt.subplot(1,3,2)\n",
        "    p2 = sns.countplot(x='bin_chol', data=data_sample, hue='target', palette='OrRd')\n",
        "    p2.set_title('Serum_Cholestrol vs Heart Disease')\n",
        "    \n",
        "    plt.subplot(1,3,3)\n",
        "    p3 = sns.countplot(x='bin_max_hr', data=data_sample, hue='target', palette='OrRd')\n",
        "    p3.set_title('Max Heart Rate vs Heart Disease')\n",
        "    \n",
        "plot5()\n",
        "  "
      ],
      "execution_count": 19,
      "outputs": [
        {
          "output_type": "display_data",
          "data": {
            "image/png": "[encoded data removed]",
            "text/plain": [
              "<Figure size 1872x432 with 3 Axes>"
            ]
          },
          "metadata": {
            "tags": []
          }
        }
      ]
    },
    {
      "metadata": {
        "id": "ztLZ66Il4Sr-",
        "colab_type": "text"
      },
      "cell_type": "markdown",
      "source": [
        "**Insights:**\n",
        "\n",
        "**Figure 1 : Shows atypical angina chest pain resulted in more heart disease**\n",
        "\n",
        "**Figure 2 : ShowsCholestrol Range of 200 - 300 have resulted in heart disease**\n",
        "\n",
        "**Figure 3 : Shows Max Heart rate between 140 to 180 have resulted in heart disease**"
      ]
    },
    {
      "metadata": {
        "id": "eY_YVBjMVBDW",
        "colab_type": "code",
        "outputId": "e27496e7-27e7-493f-a2a2-7dc0d525481f",
        "colab": {
          "base_uri": "https://localhost:8080/",
          "height": 423
        }
      },
      "cell_type": "code",
      "source": [
        "def plot6():\n",
        "    plt.figure(figsize=(26,6))\n",
        "    plt.subplot(1,3,1)\n",
        "    p1 = sns.countplot(x='Fasting_blood_sugar(mg/dl)', data=data_sample, hue='target', palette='OrRd')\n",
        "    p1.set_title('Fasting_blood_sugar vs Heart Disease')\n",
        "        \n",
        "    plt.subplot(1,3,2)\n",
        "    p2 = sns.countplot(x='Slope', data=data_sample, hue='target', palette='OrRd')\n",
        "    p2.set_title('Slope vs Heart Disease')\n",
        "    \n",
        "    plt.subplot(1,3,3)\n",
        "    p3 = sns.countplot(x='thalassemia', data=data_sample, hue='target', palette='OrRd')\n",
        "    p3.set_title('Thalessemia vs Heart Disease')\n",
        "plot6()"
      ],
      "execution_count": 20,
      "outputs": [
        {
          "output_type": "display_data",
          "data": {
            "image/png": "[encoded data removed]",
            "text/plain": [
              "<Figure size 1872x432 with 3 Axes>"
            ]
          },
          "metadata": {
            "tags": []
          }
        }
      ]
    },
    {
      "metadata": {
        "id": "o2m_MY9548_v",
        "colab_type": "text"
      },
      "cell_type": "markdown",
      "source": [
        "**Insights:**\n",
        "\n",
        "**Figure 1 : Shows Blood Sugar level lower than 120mg/ml has resulted in more heart disease**\n",
        "\n",
        "**Figure 2 : Shows Slope type of flat have resulted in heart disease**\n",
        "\n",
        "**Figure 3 : Shows thalassemai type of fixed defect have resulted in heart disease**"
      ]
    },
    {
      "metadata": {
        "id": "aqXmUekF7oMg",
        "colab_type": "code",
        "colab": {
          "base_uri": "https://localhost:8080/",
          "height": 376
        },
        "outputId": "70b39b70-cd59-4677-a47e-b4064f5713c4"
      },
      "cell_type": "code",
      "source": [
        "def plot11():\n",
        "    plt.figure(figsize=(14,8))\n",
        "    plt.subplot(1,3,1)\n",
        "    p1 = sns.countplot(x='Fasting_blood_sugar(mg/dl)', data=data_sample, hue='target', palette='OrRd')\n",
        "    p1.set_title('Fasting_blood_sugar vs Heart Disease')\n",
        "         \n",
        "  \n",
        "    p1 = sns.countplot(x='Resting_ECG_results', data=data_sample, hue='target', palette='OrRd')\n",
        "    p1.set_title('Resting_ECG_results vs Heart Disease')\n",
        "    \n",
        "plot11()"
      ],
      "execution_count": 21,
      "outputs": [
        {
          "output_type": "display_data",
          "data": {
            "image/png": "[encoded data removed]",
            "text/plain": [
              "<Figure size 576x396 with 1 Axes>"
            ]
          },
          "metadata": {
            "tags": []
          }
        }
      ]
    },
    {
      "metadata": {
        "id": "ZOmheD0e6nlU",
        "colab_type": "code",
        "outputId": "526bb7fd-d138-4c1a-fe0f-3eaead607cf7",
        "colab": {
          "base_uri": "https://localhost:8080/",
          "height": 423
        }
      },
      "cell_type": "code",
      "source": [
        "def plot7():\n",
        "    plt.figure(figsize=(26,6))\n",
        "    \n",
        "    plt.subplot(1,3,1)\n",
        "    p1 = sns.swarmplot(x='Chest_pain_type', y='Age', data=data_sample, hue='target', palette='Set2')\n",
        "    p1.set_title('Age vs Chest Pain & Heart Disease')\n",
        "        \n",
        "    plt.subplot(1,3,2)\n",
        "    p2 = sns.swarmplot(x='bin_chol', y='Age', data=data_sample, hue='target', palette='Set2')\n",
        "    p2.set_title('Age vs Serum_Cholestrol & Heart Disease')\n",
        "    \n",
        "    plt.subplot(1,3,3)\n",
        "    p3 = sns.swarmplot(x='bin_max_hr',y='Age', data=data_sample, hue='target', palette='Set2')\n",
        "    p3.set_title('Age vs  Max Heart Rate & Heart Disease')\n",
        "plot7()"
      ],
      "execution_count": 22,
      "outputs": [
        {
          "output_type": "display_data",
          "data": {
            "image/png": "[encoded data removed]",
            "text/plain": [
              "<Figure size 1872x432 with 3 Axes>"
            ]
          },
          "metadata": {
            "tags": []
          }
        }
      ]
    },
    {
      "metadata": {
        "id": "qIhaE3C15lii",
        "colab_type": "text"
      },
      "cell_type": "markdown",
      "source": [
        "**Insights:**\n",
        "\n",
        "**Figure 1 : Important note here - Chest pain type makes an important factor for having heart disesese because most of the cases with target 1 have chest                      pain**\n",
        "\n",
        "**Figure 2 : Cholestrol level 200-250 is more among the age range 40 - 60**\n",
        "\n",
        "**Figure 3 : Max heart rate between 160-180 that have led to heart disease are more likely to occur for age group of 40-50**"
      ]
    },
    {
      "metadata": {
        "id": "gr8O1_c7DwQF",
        "colab_type": "code",
        "outputId": "13614750-45c4-40fb-8642-3326b06aa2f1",
        "colab": {
          "base_uri": "https://localhost:8080/",
          "height": 423
        }
      },
      "cell_type": "code",
      "source": [
        "def plot8():\n",
        "    plt.figure(figsize=(26,6))\n",
        "    \n",
        "    plt.subplot(1,3,1)\n",
        "    p1 = sns.swarmplot(x='Fasting_blood_sugar(mg/dl)', y='Age', data=data_sample, hue='target', palette='Set2')\n",
        "    p1.set_title('Age vs Fasting_blood_sugar & Heart Disease')\n",
        "        \n",
        "    plt.subplot(1,3,2)\n",
        "    p2 = sns.swarmplot(x='Slope', y='Age', data=data_sample, hue='target', palette='Set2')\n",
        "    p2.set_title('Age vs Fasting Blodd Sugar level & Heart Disease')\n",
        "    \n",
        "    plt.subplot(1,3,3)\n",
        "    p3 = sns.swarmplot(x='thalassemia',y='Age', data=data_sample, hue='target', palette='Set2')\n",
        "    p3.set_title('Age vs  Cholestral & Heart Disease')\n",
        "plot8()"
      ],
      "execution_count": 23,
      "outputs": [
        {
          "output_type": "display_data",
          "data": {
            "image/png": "[encoded data removed]",
            "text/plain": [
              "<Figure size 1872x432 with 3 Axes>"
            ]
          },
          "metadata": {
            "tags": []
          }
        }
      ]
    },
    {
      "metadata": {
        "id": "EDNF7F4u7cxt",
        "colab_type": "text"
      },
      "cell_type": "markdown",
      "source": [
        "**Insights:**\n",
        "\n",
        "**Figure 1 : Important note here - Most of our observation shows Blood sugar level lower than 120mg/ml**\n",
        "\n",
        "**Figure 2 : Distribution of slope type with ages**\n",
        "\n",
        "**Figure 3 : Important note here - Thalassemia type of fixed defect that have led to heart disease are more likely to occur for age group of 40-55**"
      ]
    },
    {
      "metadata": {
        "id": "LmfEoklvItDH",
        "colab_type": "code",
        "outputId": "7bfc8f65-2c0b-4e31-9453-31adc879a0ca",
        "colab": {
          "base_uri": "https://localhost:8080/",
          "height": 309
        }
      },
      "cell_type": "code",
      "source": [
        "data_sample.head()"
      ],
      "execution_count": 24,
      "outputs": [
        {
          "output_type": "execute_result",
          "data": {
            "text/html": [
              "<div>\n",
              "<style scoped>\n",
              "    .dataframe tbody tr th:only-of-type {\n",
              "        vertical-align: middle;\n",
              "    }\n",
              "\n",
              "    .dataframe tbody tr th {\n",
              "        vertical-align: top;\n",
              "    }\n",
              "\n",
              "    .dataframe thead th {\n",
              "        text-align: right;\n",
              "    }\n",
              "</style>\n",
              "<table border=\"1\" class=\"dataframe\">\n",
              "  <thead>\n",
              "    <tr style=\"text-align: right;\">\n",
              "      <th></th>\n",
              "      <th>Age</th>\n",
              "      <th>Sex</th>\n",
              "      <th>Chest_pain_type</th>\n",
              "      <th>Resting_blood_pressure</th>\n",
              "      <th>Serum_cholestoral(mg/dl)</th>\n",
              "      <th>Fasting_blood_sugar(mg/dl)</th>\n",
              "      <th>Resting_ECG_results</th>\n",
              "      <th>Max_heart_rate</th>\n",
              "      <th>Exercise_induced_angina</th>\n",
              "      <th>Oldpeak</th>\n",
              "      <th>Slope</th>\n",
              "      <th>No.of_major_vessels</th>\n",
              "      <th>thalassemia</th>\n",
              "      <th>target</th>\n",
              "      <th>bin_age</th>\n",
              "      <th>bin_chol</th>\n",
              "      <th>bin_max_hr</th>\n",
              "    </tr>\n",
              "  </thead>\n",
              "  <tbody>\n",
              "    <tr>\n",
              "      <th>0</th>\n",
              "      <td>63</td>\n",
              "      <td>Male</td>\n",
              "      <td>non-anginal pain</td>\n",
              "      <td>145</td>\n",
              "      <td>233</td>\n",
              "      <td>greater than 120mg/ml</td>\n",
              "      <td>normal</td>\n",
              "      <td>150</td>\n",
              "      <td>no</td>\n",
              "      <td>2.3</td>\n",
              "      <td>0</td>\n",
              "      <td>0</td>\n",
              "      <td>normal</td>\n",
              "      <td>1</td>\n",
              "      <td>(60, 70]</td>\n",
              "      <td>(200, 250]</td>\n",
              "      <td>(140, 160]</td>\n",
              "    </tr>\n",
              "    <tr>\n",
              "      <th>1</th>\n",
              "      <td>37</td>\n",
              "      <td>Male</td>\n",
              "      <td>atypical angina</td>\n",
              "      <td>130</td>\n",
              "      <td>250</td>\n",
              "      <td>lower than 120mg/ml</td>\n",
              "      <td>ST-T wave abnormality</td>\n",
              "      <td>187</td>\n",
              "      <td>no</td>\n",
              "      <td>3.5</td>\n",
              "      <td>0</td>\n",
              "      <td>0</td>\n",
              "      <td>fixed defect</td>\n",
              "      <td>1</td>\n",
              "      <td>(30, 40]</td>\n",
              "      <td>(200, 250]</td>\n",
              "      <td>(180, 200]</td>\n",
              "    </tr>\n",
              "    <tr>\n",
              "      <th>2</th>\n",
              "      <td>41</td>\n",
              "      <td>Female</td>\n",
              "      <td>typical angina</td>\n",
              "      <td>130</td>\n",
              "      <td>204</td>\n",
              "      <td>lower than 120mg/ml</td>\n",
              "      <td>normal</td>\n",
              "      <td>172</td>\n",
              "      <td>no</td>\n",
              "      <td>1.4</td>\n",
              "      <td>flat</td>\n",
              "      <td>0</td>\n",
              "      <td>fixed defect</td>\n",
              "      <td>1</td>\n",
              "      <td>(40, 50]</td>\n",
              "      <td>(200, 250]</td>\n",
              "      <td>(160, 180]</td>\n",
              "    </tr>\n",
              "    <tr>\n",
              "      <th>3</th>\n",
              "      <td>56</td>\n",
              "      <td>Male</td>\n",
              "      <td>typical angina</td>\n",
              "      <td>120</td>\n",
              "      <td>236</td>\n",
              "      <td>lower than 120mg/ml</td>\n",
              "      <td>ST-T wave abnormality</td>\n",
              "      <td>178</td>\n",
              "      <td>no</td>\n",
              "      <td>0.8</td>\n",
              "      <td>flat</td>\n",
              "      <td>0</td>\n",
              "      <td>fixed defect</td>\n",
              "      <td>1</td>\n",
              "      <td>(50, 60]</td>\n",
              "      <td>(200, 250]</td>\n",
              "      <td>(160, 180]</td>\n",
              "    </tr>\n",
              "    <tr>\n",
              "      <th>4</th>\n",
              "      <td>57</td>\n",
              "      <td>Female</td>\n",
              "      <td>0</td>\n",
              "      <td>120</td>\n",
              "      <td>354</td>\n",
              "      <td>lower than 120mg/ml</td>\n",
              "      <td>ST-T wave abnormality</td>\n",
              "      <td>163</td>\n",
              "      <td>yes</td>\n",
              "      <td>0.6</td>\n",
              "      <td>flat</td>\n",
              "      <td>0</td>\n",
              "      <td>fixed defect</td>\n",
              "      <td>1</td>\n",
              "      <td>(50, 60]</td>\n",
              "      <td>(350, 400]</td>\n",
              "      <td>(160, 180]</td>\n",
              "    </tr>\n",
              "  </tbody>\n",
              "</table>\n",
              "</div>"
            ],
            "text/plain": [
              "   Age     Sex   Chest_pain_type  Resting_blood_pressure  \\\n",
              "0   63    Male  non-anginal pain                     145   \n",
              "1   37    Male   atypical angina                     130   \n",
              "2   41  Female    typical angina                     130   \n",
              "3   56    Male    typical angina                     120   \n",
              "4   57  Female                 0                     120   \n",
              "\n",
              "   Serum_cholestoral(mg/dl) Fasting_blood_sugar(mg/dl)    Resting_ECG_results  \\\n",
              "0                       233      greater than 120mg/ml                 normal   \n",
              "1                       250        lower than 120mg/ml  ST-T wave abnormality   \n",
              "2                       204        lower than 120mg/ml                 normal   \n",
              "3                       236        lower than 120mg/ml  ST-T wave abnormality   \n",
              "4                       354        lower than 120mg/ml  ST-T wave abnormality   \n",
              "\n",
              "   Max_heart_rate Exercise_induced_angina  Oldpeak Slope  No.of_major_vessels  \\\n",
              "0             150                      no      2.3     0                    0   \n",
              "1             187                      no      3.5     0                    0   \n",
              "2             172                      no      1.4  flat                    0   \n",
              "3             178                      no      0.8  flat                    0   \n",
              "4             163                     yes      0.6  flat                    0   \n",
              "\n",
              "    thalassemia  target   bin_age    bin_chol  bin_max_hr  \n",
              "0        normal       1  (60, 70]  (200, 250]  (140, 160]  \n",
              "1  fixed defect       1  (30, 40]  (200, 250]  (180, 200]  \n",
              "2  fixed defect       1  (40, 50]  (200, 250]  (160, 180]  \n",
              "3  fixed defect       1  (50, 60]  (200, 250]  (160, 180]  \n",
              "4  fixed defect       1  (50, 60]  (350, 400]  (160, 180]  "
            ]
          },
          "metadata": {
            "tags": []
          },
          "execution_count": 24
        }
      ]
    },
    {
      "metadata": {
        "id": "dfGeG1slJcjd",
        "colab_type": "text"
      },
      "cell_type": "markdown",
      "source": [
        "# MACHINE LEARNING"
      ]
    },
    {
      "metadata": {
        "id": "ybcine8uB0OY",
        "colab_type": "code",
        "colab": {}
      },
      "cell_type": "code",
      "source": [
        "from sklearn.preprocessing import StandardScaler\n",
        "from sklearn.model_selection import train_test_split\n",
        "from sklearn.metrics import classification_report\n",
        "\n",
        "\n",
        "from sklearn.tree import DecisionTreeClassifier\n",
        "from sklearn.ensemble import RandomForestClassifier\n",
        "from sklearn.neighbors import KNeighborsClassifier\n",
        "from sklearn.linear_model import LogisticRegression\n",
        "from sklearn.svm import SVC\n",
        "from sklearn.naive_bayes import GaussianNB\n",
        "\n",
        "\n",
        "from sklearn.model_selection import RandomizedSearchCV\n",
        "from sklearn.model_selection import GridSearchCV\n",
        "\n",
        "from sklearn.metrics import accuracy_score\n",
        "from sklearn.model_selection import cross_val_score\n",
        "from sklearn.metrics import confusion_matrix\n",
        "from sklearn import metrics"
      ],
      "execution_count": 0,
      "outputs": []
    },
    {
      "metadata": {
        "colab_type": "code",
        "outputId": "dfbca08e-e060-443d-ba7c-5dffc3575724",
        "id": "cuAnmzISxLDt",
        "colab": {
          "base_uri": "https://localhost:8080/",
          "height": 224
        }
      },
      "cell_type": "code",
      "source": [
        "X = heart_data.loc[:, heart_data.columns!='target']\n",
        "X.head()"
      ],
      "execution_count": 26,
      "outputs": [
        {
          "output_type": "execute_result",
          "data": {
            "text/html": [
              "<div>\n",
              "<style scoped>\n",
              "    .dataframe tbody tr th:only-of-type {\n",
              "        vertical-align: middle;\n",
              "    }\n",
              "\n",
              "    .dataframe tbody tr th {\n",
              "        vertical-align: top;\n",
              "    }\n",
              "\n",
              "    .dataframe thead th {\n",
              "        text-align: right;\n",
              "    }\n",
              "</style>\n",
              "<table border=\"1\" class=\"dataframe\">\n",
              "  <thead>\n",
              "    <tr style=\"text-align: right;\">\n",
              "      <th></th>\n",
              "      <th>Age</th>\n",
              "      <th>Sex</th>\n",
              "      <th>Chest_pain_type</th>\n",
              "      <th>Resting_blood_pressure</th>\n",
              "      <th>Serum_cholestoral(mg/dl)</th>\n",
              "      <th>Fasting_blood_sugar(mg/dl)</th>\n",
              "      <th>Resting_ECG_results</th>\n",
              "      <th>Max_heart_rate</th>\n",
              "      <th>Exercise_induced_angina</th>\n",
              "      <th>Oldpeak</th>\n",
              "      <th>Slope</th>\n",
              "      <th>No.of_major_vessels</th>\n",
              "      <th>thalassemia</th>\n",
              "    </tr>\n",
              "  </thead>\n",
              "  <tbody>\n",
              "    <tr>\n",
              "      <th>0</th>\n",
              "      <td>63</td>\n",
              "      <td>1</td>\n",
              "      <td>3</td>\n",
              "      <td>145</td>\n",
              "      <td>233</td>\n",
              "      <td>1</td>\n",
              "      <td>0</td>\n",
              "      <td>150</td>\n",
              "      <td>0</td>\n",
              "      <td>2.3</td>\n",
              "      <td>0</td>\n",
              "      <td>0</td>\n",
              "      <td>1</td>\n",
              "    </tr>\n",
              "    <tr>\n",
              "      <th>1</th>\n",
              "      <td>37</td>\n",
              "      <td>1</td>\n",
              "      <td>2</td>\n",
              "      <td>130</td>\n",
              "      <td>250</td>\n",
              "      <td>0</td>\n",
              "      <td>1</td>\n",
              "      <td>187</td>\n",
              "      <td>0</td>\n",
              "      <td>3.5</td>\n",
              "      <td>0</td>\n",
              "      <td>0</td>\n",
              "      <td>2</td>\n",
              "    </tr>\n",
              "    <tr>\n",
              "      <th>2</th>\n",
              "      <td>41</td>\n",
              "      <td>0</td>\n",
              "      <td>1</td>\n",
              "      <td>130</td>\n",
              "      <td>204</td>\n",
              "      <td>0</td>\n",
              "      <td>0</td>\n",
              "      <td>172</td>\n",
              "      <td>0</td>\n",
              "      <td>1.4</td>\n",
              "      <td>2</td>\n",
              "      <td>0</td>\n",
              "      <td>2</td>\n",
              "    </tr>\n",
              "    <tr>\n",
              "      <th>3</th>\n",
              "      <td>56</td>\n",
              "      <td>1</td>\n",
              "      <td>1</td>\n",
              "      <td>120</td>\n",
              "      <td>236</td>\n",
              "      <td>0</td>\n",
              "      <td>1</td>\n",
              "      <td>178</td>\n",
              "      <td>0</td>\n",
              "      <td>0.8</td>\n",
              "      <td>2</td>\n",
              "      <td>0</td>\n",
              "      <td>2</td>\n",
              "    </tr>\n",
              "    <tr>\n",
              "      <th>4</th>\n",
              "      <td>57</td>\n",
              "      <td>0</td>\n",
              "      <td>0</td>\n",
              "      <td>120</td>\n",
              "      <td>354</td>\n",
              "      <td>0</td>\n",
              "      <td>1</td>\n",
              "      <td>163</td>\n",
              "      <td>1</td>\n",
              "      <td>0.6</td>\n",
              "      <td>2</td>\n",
              "      <td>0</td>\n",
              "      <td>2</td>\n",
              "    </tr>\n",
              "  </tbody>\n",
              "</table>\n",
              "</div>"
            ],
            "text/plain": [
              "   Age  Sex  Chest_pain_type  Resting_blood_pressure  \\\n",
              "0   63    1                3                     145   \n",
              "1   37    1                2                     130   \n",
              "2   41    0                1                     130   \n",
              "3   56    1                1                     120   \n",
              "4   57    0                0                     120   \n",
              "\n",
              "   Serum_cholestoral(mg/dl)  Fasting_blood_sugar(mg/dl)  Resting_ECG_results  \\\n",
              "0                       233                           1                    0   \n",
              "1                       250                           0                    1   \n",
              "2                       204                           0                    0   \n",
              "3                       236                           0                    1   \n",
              "4                       354                           0                    1   \n",
              "\n",
              "   Max_heart_rate  Exercise_induced_angina  Oldpeak  Slope  \\\n",
              "0             150                        0      2.3      0   \n",
              "1             187                        0      3.5      0   \n",
              "2             172                        0      1.4      2   \n",
              "3             178                        0      0.8      2   \n",
              "4             163                        1      0.6      2   \n",
              "\n",
              "   No.of_major_vessels  thalassemia  \n",
              "0                    0            1  \n",
              "1                    0            2  \n",
              "2                    0            2  \n",
              "3                    0            2  \n",
              "4                    0            2  "
            ]
          },
          "metadata": {
            "tags": []
          },
          "execution_count": 26
        }
      ]
    },
    {
      "metadata": {
        "colab_type": "code",
        "outputId": "e04c4fa9-79f7-4432-f829-d0ab40707781",
        "id": "8YuSJzUbxLD6",
        "colab": {
          "base_uri": "https://localhost:8080/",
          "height": 204
        }
      },
      "cell_type": "code",
      "source": [
        "y = heart_data.loc[:, heart_data.columns=='target']\n",
        "y.head()"
      ],
      "execution_count": 27,
      "outputs": [
        {
          "output_type": "execute_result",
          "data": {
            "text/html": [
              "<div>\n",
              "<style scoped>\n",
              "    .dataframe tbody tr th:only-of-type {\n",
              "        vertical-align: middle;\n",
              "    }\n",
              "\n",
              "    .dataframe tbody tr th {\n",
              "        vertical-align: top;\n",
              "    }\n",
              "\n",
              "    .dataframe thead th {\n",
              "        text-align: right;\n",
              "    }\n",
              "</style>\n",
              "<table border=\"1\" class=\"dataframe\">\n",
              "  <thead>\n",
              "    <tr style=\"text-align: right;\">\n",
              "      <th></th>\n",
              "      <th>target</th>\n",
              "    </tr>\n",
              "  </thead>\n",
              "  <tbody>\n",
              "    <tr>\n",
              "      <th>0</th>\n",
              "      <td>1</td>\n",
              "    </tr>\n",
              "    <tr>\n",
              "      <th>1</th>\n",
              "      <td>1</td>\n",
              "    </tr>\n",
              "    <tr>\n",
              "      <th>2</th>\n",
              "      <td>1</td>\n",
              "    </tr>\n",
              "    <tr>\n",
              "      <th>3</th>\n",
              "      <td>1</td>\n",
              "    </tr>\n",
              "    <tr>\n",
              "      <th>4</th>\n",
              "      <td>1</td>\n",
              "    </tr>\n",
              "  </tbody>\n",
              "</table>\n",
              "</div>"
            ],
            "text/plain": [
              "   target\n",
              "0       1\n",
              "1       1\n",
              "2       1\n",
              "3       1\n",
              "4       1"
            ]
          },
          "metadata": {
            "tags": []
          },
          "execution_count": 27
        }
      ]
    },
    {
      "metadata": {
        "colab_type": "code",
        "id": "Y1AUhNxfxLD9",
        "colab": {}
      },
      "cell_type": "code",
      "source": [
        "X_train, X_test, y_train, y_test = train_test_split(X, y, random_state=1, test_size=0.30, stratify=y )"
      ],
      "execution_count": 0,
      "outputs": []
    },
    {
      "metadata": {
        "id": "-maKeI--iybq",
        "colab_type": "code",
        "outputId": "c1dde095-bf54-4e5c-dd0a-39015f827a22",
        "colab": {
          "base_uri": "https://localhost:8080/",
          "height": 51
        }
      },
      "cell_type": "code",
      "source": [
        "print(X_train.shape)\n",
        "print(X_test.shape)"
      ],
      "execution_count": 29,
      "outputs": [
        {
          "output_type": "stream",
          "text": [
            "(212, 13)\n",
            "(91, 13)\n"
          ],
          "name": "stdout"
        }
      ]
    },
    {
      "metadata": {
        "id": "-ZV4LTfBjaMh",
        "colab_type": "code",
        "outputId": "5e50cc58-858e-4079-854f-f0cdd50c5d3d",
        "colab": {
          "base_uri": "https://localhost:8080/",
          "height": 51
        }
      },
      "cell_type": "code",
      "source": [
        "print(y_train.shape)\n",
        "print(y_test.shape)"
      ],
      "execution_count": 30,
      "outputs": [
        {
          "output_type": "stream",
          "text": [
            "(212, 1)\n",
            "(91, 1)\n"
          ],
          "name": "stdout"
        }
      ]
    },
    {
      "metadata": {
        "id": "Yp5GGYUdBMMg",
        "colab_type": "text"
      },
      "cell_type": "markdown",
      "source": [
        "**Model 1 : Decision Tree**"
      ]
    },
    {
      "metadata": {
        "colab_type": "code",
        "outputId": "72d826a6-6c7b-4a80-d68b-760a6103fe0d",
        "id": "iOYQ251RxLEG",
        "colab": {
          "base_uri": "https://localhost:8080/",
          "height": 119
        }
      },
      "cell_type": "code",
      "source": [
        "def tree1():\n",
        "  \n",
        "   return DecisionTreeClassifier(random_state=1)\n",
        "  \n",
        "Model1 = tree1()\n",
        "Model1.fit(X_train,y_train)"
      ],
      "execution_count": 31,
      "outputs": [
        {
          "output_type": "execute_result",
          "data": {
            "text/plain": [
              "DecisionTreeClassifier(class_weight=None, criterion='gini', max_depth=None,\n",
              "            max_features=None, max_leaf_nodes=None,\n",
              "            min_impurity_decrease=0.0, min_impurity_split=None,\n",
              "            min_samples_leaf=1, min_samples_split=2,\n",
              "            min_weight_fraction_leaf=0.0, presort=False, random_state=1,\n",
              "            splitter='best')"
            ]
          },
          "metadata": {
            "tags": []
          },
          "execution_count": 31
        }
      ]
    },
    {
      "metadata": {
        "colab_type": "code",
        "outputId": "4ea5dfe0-de56-45b8-bd7e-f7f96573759f",
        "id": "X0RM84D-xLEM",
        "colab": {
          "base_uri": "https://localhost:8080/",
          "height": 34
        }
      },
      "cell_type": "code",
      "source": [
        "prediction_model1 = Model1.predict(X_test)\n",
        "accuracy_score(y_test, prediction_model1)"
      ],
      "execution_count": 32,
      "outputs": [
        {
          "output_type": "execute_result",
          "data": {
            "text/plain": [
              "0.7032967032967034"
            ]
          },
          "metadata": {
            "tags": []
          },
          "execution_count": 32
        }
      ]
    },
    {
      "metadata": {
        "colab_type": "code",
        "outputId": "5a7f884c-ee83-496e-9b38-1934f6a16a8f",
        "id": "c6pUIZdL9HaE",
        "colab": {
          "base_uri": "https://localhost:8080/",
          "height": 111
        }
      },
      "cell_type": "code",
      "source": [
        "modle1_matrix = pd.DataFrame()\n",
        "model1_matrix = pd.DataFrame(confusion_matrix(y_test, prediction_model1))\n",
        "model1_matrix.index = ['Actual No Disease','Actual Disease']\n",
        "model1_matrix.columns = ['Predicted No Disease','Predicted Disease']\n",
        "model1_matrix"
      ],
      "execution_count": 33,
      "outputs": [
        {
          "output_type": "execute_result",
          "data": {
            "text/html": [
              "<div>\n",
              "<style scoped>\n",
              "    .dataframe tbody tr th:only-of-type {\n",
              "        vertical-align: middle;\n",
              "    }\n",
              "\n",
              "    .dataframe tbody tr th {\n",
              "        vertical-align: top;\n",
              "    }\n",
              "\n",
              "    .dataframe thead th {\n",
              "        text-align: right;\n",
              "    }\n",
              "</style>\n",
              "<table border=\"1\" class=\"dataframe\">\n",
              "  <thead>\n",
              "    <tr style=\"text-align: right;\">\n",
              "      <th></th>\n",
              "      <th>Predicted No Disease</th>\n",
              "      <th>Predicted Disease</th>\n",
              "    </tr>\n",
              "  </thead>\n",
              "  <tbody>\n",
              "    <tr>\n",
              "      <th>Actual No Disease</th>\n",
              "      <td>31</td>\n",
              "      <td>10</td>\n",
              "    </tr>\n",
              "    <tr>\n",
              "      <th>Actual Disease</th>\n",
              "      <td>17</td>\n",
              "      <td>33</td>\n",
              "    </tr>\n",
              "  </tbody>\n",
              "</table>\n",
              "</div>"
            ],
            "text/plain": [
              "                   Predicted No Disease  Predicted Disease\n",
              "Actual No Disease                    31                 10\n",
              "Actual Disease                       17                 33"
            ]
          },
          "metadata": {
            "tags": []
          },
          "execution_count": 33
        }
      ]
    },
    {
      "metadata": {
        "id": "4VJc_1nT4O8h",
        "colab_type": "text"
      },
      "cell_type": "markdown",
      "source": [
        "\n",
        "---\n"
      ]
    },
    {
      "metadata": {
        "id": "m6C1Aph-Ckaj",
        "colab_type": "text"
      },
      "cell_type": "markdown",
      "source": [
        "**Model 2: Decision tree with Gridsearchcv**"
      ]
    },
    {
      "metadata": {
        "colab_type": "code",
        "outputId": "410c9d48-66ad-40f4-c001-6238ad1cdd8f",
        "id": "LhX67BbAxLEU",
        "colab": {
          "base_uri": "https://localhost:8080/",
          "height": 258
        }
      },
      "cell_type": "code",
      "source": [
        "def tree2():\n",
        "  \n",
        "  dtree = DecisionTreeClassifier(random_state=1)\n",
        "  params = {'splitter':['best'],  'max_depth': range(2,60),\n",
        "             'min_samples_split': [2,3,4,5,6,7,8,9,10],\n",
        "            'max_features':['sqrt','log2',None]}\n",
        "  \n",
        "  return GridSearchCV(dtree, params, cv=10)\n",
        "\n",
        "Model2 = tree2()\n",
        "Model2.fit(X_train,y_train)"
      ],
      "execution_count": 34,
      "outputs": [
        {
          "output_type": "stream",
          "text": [
            "/usr/local/lib/python3.6/dist-packages/sklearn/model_selection/_search.py:841: DeprecationWarning: The default of the `iid` parameter will change from True to False in version 0.22 and will be removed in 0.24. This will change numeric results when test-set sizes are unequal.\n",
            "  DeprecationWarning)\n"
          ],
          "name": "stderr"
        },
        {
          "output_type": "execute_result",
          "data": {
            "text/plain": [
              "GridSearchCV(cv=10, error_score='raise-deprecating',\n",
              "       estimator=DecisionTreeClassifier(class_weight=None, criterion='gini', max_depth=None,\n",
              "            max_features=None, max_leaf_nodes=None,\n",
              "            min_impurity_decrease=0.0, min_impurity_split=None,\n",
              "            min_samples_leaf=1, min_samples_split=2,\n",
              "            min_weight_fraction_leaf=0.0, presort=False, random_state=1,\n",
              "            splitter='best'),\n",
              "       fit_params=None, iid='warn', n_jobs=None,\n",
              "       param_grid={'splitter': ['best'], 'max_depth': range(2, 60), 'min_samples_split': [2, 3, 4, 5, 6, 7, 8, 9, 10], 'max_features': ['sqrt', 'log2', None]},\n",
              "       pre_dispatch='2*n_jobs', refit=True, return_train_score='warn',\n",
              "       scoring=None, verbose=0)"
            ]
          },
          "metadata": {
            "tags": []
          },
          "execution_count": 34
        }
      ]
    },
    {
      "metadata": {
        "colab_type": "code",
        "outputId": "dd5474b4-d97b-4af3-db42-88340f2253e4",
        "id": "Ct6bFVr-xLEY",
        "colab": {
          "base_uri": "https://localhost:8080/",
          "height": 34
        }
      },
      "cell_type": "code",
      "source": [
        "prediction_model2 = Model2.predict(X_test)\n",
        "accuracy_score(y_test,prediction_model2)"
      ],
      "execution_count": 35,
      "outputs": [
        {
          "output_type": "execute_result",
          "data": {
            "text/plain": [
              "0.7912087912087912"
            ]
          },
          "metadata": {
            "tags": []
          },
          "execution_count": 35
        }
      ]
    },
    {
      "metadata": {
        "colab_type": "code",
        "outputId": "8c692401-a2e2-402b-de42-421b63c28dd7",
        "id": "M_CJuggTxLEc",
        "colab": {
          "base_uri": "https://localhost:8080/",
          "height": 51
        }
      },
      "cell_type": "code",
      "source": [
        "print(Model2.best_params_)\n",
        "print(Model2.best_score_)"
      ],
      "execution_count": 36,
      "outputs": [
        {
          "output_type": "stream",
          "text": [
            "{'max_depth': 3, 'max_features': None, 'min_samples_split': 2, 'splitter': 'best'}\n",
            "0.7641509433962265\n"
          ],
          "name": "stdout"
        }
      ]
    },
    {
      "metadata": {
        "id": "58okvKIU0MXp",
        "colab_type": "code",
        "outputId": "9041663b-5228-4426-9f37-415d73c5b62f",
        "colab": {
          "base_uri": "https://localhost:8080/",
          "height": 111
        }
      },
      "cell_type": "code",
      "source": [
        "modle2_matrix = pd.DataFrame()\n",
        "model2_matrix = pd.DataFrame(confusion_matrix(y_test, prediction_model2))\n",
        "model2_matrix.index = ['Actual No Disease','Actual Disease']\n",
        "model2_matrix.columns = ['Predicted No Disease','Predicted Disease']\n",
        "model2_matrix"
      ],
      "execution_count": 37,
      "outputs": [
        {
          "output_type": "execute_result",
          "data": {
            "text/html": [
              "<div>\n",
              "<style scoped>\n",
              "    .dataframe tbody tr th:only-of-type {\n",
              "        vertical-align: middle;\n",
              "    }\n",
              "\n",
              "    .dataframe tbody tr th {\n",
              "        vertical-align: top;\n",
              "    }\n",
              "\n",
              "    .dataframe thead th {\n",
              "        text-align: right;\n",
              "    }\n",
              "</style>\n",
              "<table border=\"1\" class=\"dataframe\">\n",
              "  <thead>\n",
              "    <tr style=\"text-align: right;\">\n",
              "      <th></th>\n",
              "      <th>Predicted No Disease</th>\n",
              "      <th>Predicted Disease</th>\n",
              "    </tr>\n",
              "  </thead>\n",
              "  <tbody>\n",
              "    <tr>\n",
              "      <th>Actual No Disease</th>\n",
              "      <td>32</td>\n",
              "      <td>9</td>\n",
              "    </tr>\n",
              "    <tr>\n",
              "      <th>Actual Disease</th>\n",
              "      <td>10</td>\n",
              "      <td>40</td>\n",
              "    </tr>\n",
              "  </tbody>\n",
              "</table>\n",
              "</div>"
            ],
            "text/plain": [
              "                   Predicted No Disease  Predicted Disease\n",
              "Actual No Disease                    32                  9\n",
              "Actual Disease                       10                 40"
            ]
          },
          "metadata": {
            "tags": []
          },
          "execution_count": 37
        }
      ]
    },
    {
      "metadata": {
        "id": "Wlh74Ksx4a7o",
        "colab_type": "text"
      },
      "cell_type": "markdown",
      "source": [
        "\n",
        "\n",
        "---\n",
        "\n"
      ]
    },
    {
      "metadata": {
        "id": "k-s9Au5V4b-1",
        "colab_type": "text"
      },
      "cell_type": "markdown",
      "source": [
        "**Model 3: Random Forest**"
      ]
    },
    {
      "metadata": {
        "id": "Kh9JSrgO4e_R",
        "colab_type": "code",
        "outputId": "1c70a761-6af6-46e0-dce1-ec1b6b941e13",
        "colab": {
          "base_uri": "https://localhost:8080/",
          "height": 119
        }
      },
      "cell_type": "code",
      "source": [
        "def tree3():\n",
        "  \n",
        "  return RandomForestClassifier(random_state=1)\n",
        "  \n",
        "Model3 = tree3()\n",
        "Model3.fit(X_train,y_train)  "
      ],
      "execution_count": 38,
      "outputs": [
        {
          "output_type": "execute_result",
          "data": {
            "text/plain": [
              "RandomForestClassifier(bootstrap=True, class_weight=None, criterion='gini',\n",
              "            max_depth=None, max_features='auto', max_leaf_nodes=None,\n",
              "            min_impurity_decrease=0.0, min_impurity_split=None,\n",
              "            min_samples_leaf=1, min_samples_split=2,\n",
              "            min_weight_fraction_leaf=0.0, n_estimators=10, n_jobs=None,\n",
              "            oob_score=False, random_state=1, verbose=0, warm_start=False)"
            ]
          },
          "metadata": {
            "tags": []
          },
          "execution_count": 38
        }
      ]
    },
    {
      "metadata": {
        "id": "CWQGIpue4zF7",
        "colab_type": "code",
        "outputId": "bae561ec-6b92-4958-b89c-4ef7ddce9072",
        "colab": {
          "base_uri": "https://localhost:8080/",
          "height": 34
        }
      },
      "cell_type": "code",
      "source": [
        "prediction_model3 = Model3.predict(X_test)\n",
        "print(accuracy_score(y_test,prediction_model3))"
      ],
      "execution_count": 39,
      "outputs": [
        {
          "output_type": "stream",
          "text": [
            "0.8351648351648352\n"
          ],
          "name": "stdout"
        }
      ]
    },
    {
      "metadata": {
        "id": "ZedUOL5F0S3G",
        "colab_type": "code",
        "outputId": "3001a5cf-8145-4f2d-ecd4-5abb565a395c",
        "colab": {
          "base_uri": "https://localhost:8080/",
          "height": 111
        }
      },
      "cell_type": "code",
      "source": [
        "modle3_matrix = pd.DataFrame()\n",
        "model3_matrix = pd.DataFrame(confusion_matrix(y_test, prediction_model3))\n",
        "model3_matrix.index = ['Actual No Disease','Actual Disease']\n",
        "model3_matrix.columns = ['Predicted No Disease','Predicted Disease']\n",
        "model3_matrix"
      ],
      "execution_count": 40,
      "outputs": [
        {
          "output_type": "execute_result",
          "data": {
            "text/html": [
              "<div>\n",
              "<style scoped>\n",
              "    .dataframe tbody tr th:only-of-type {\n",
              "        vertical-align: middle;\n",
              "    }\n",
              "\n",
              "    .dataframe tbody tr th {\n",
              "        vertical-align: top;\n",
              "    }\n",
              "\n",
              "    .dataframe thead th {\n",
              "        text-align: right;\n",
              "    }\n",
              "</style>\n",
              "<table border=\"1\" class=\"dataframe\">\n",
              "  <thead>\n",
              "    <tr style=\"text-align: right;\">\n",
              "      <th></th>\n",
              "      <th>Predicted No Disease</th>\n",
              "      <th>Predicted Disease</th>\n",
              "    </tr>\n",
              "  </thead>\n",
              "  <tbody>\n",
              "    <tr>\n",
              "      <th>Actual No Disease</th>\n",
              "      <td>34</td>\n",
              "      <td>7</td>\n",
              "    </tr>\n",
              "    <tr>\n",
              "      <th>Actual Disease</th>\n",
              "      <td>8</td>\n",
              "      <td>42</td>\n",
              "    </tr>\n",
              "  </tbody>\n",
              "</table>\n",
              "</div>"
            ],
            "text/plain": [
              "                   Predicted No Disease  Predicted Disease\n",
              "Actual No Disease                    34                  7\n",
              "Actual Disease                        8                 42"
            ]
          },
          "metadata": {
            "tags": []
          },
          "execution_count": 40
        }
      ]
    },
    {
      "metadata": {
        "id": "KMe95T4e46d5",
        "colab_type": "text"
      },
      "cell_type": "markdown",
      "source": [
        "\n",
        "\n",
        "---\n",
        "\n"
      ]
    },
    {
      "metadata": {
        "id": "8dS27PRU47IA",
        "colab_type": "text"
      },
      "cell_type": "markdown",
      "source": [
        "**Model 4: Random Forest with RandomizedSearchCV**"
      ]
    },
    {
      "metadata": {
        "colab_type": "code",
        "outputId": "d586fbae-39fe-42f2-8be6-77f4586e57cb",
        "id": "pkV-u4H9xLEq",
        "colab": {
          "base_uri": "https://localhost:8080/",
          "height": 258
        }
      },
      "cell_type": "code",
      "source": [
        "def tree4():\n",
        "  \n",
        "  rf = RandomForestClassifier(random_state=1)\n",
        "  params = {\"max_depth\": range(2,5),\n",
        "              \"min_samples_split\": sp_randint(2, 11),\n",
        "              \"min_samples_leaf\": sp_randint(1, 11),\n",
        "              \"bootstrap\": [True, False],\n",
        "              \"n_estimators\": [100, 400, 700, 1000, 1500],\n",
        "              \"criterion\" : [\"gini\", \"entropy\"],\n",
        "              'max_features': ['sqrt', 'log2', None]\n",
        "             }\n",
        "  n_iter = 50\n",
        "\n",
        "  return RandomizedSearchCV(rf, param_distributions = params, n_iter = n_iter, n_jobs=-1)\n",
        "  \n",
        "Model4 = tree4()\n",
        "Model4.fit(X_train,y_train)"
      ],
      "execution_count": 41,
      "outputs": [
        {
          "output_type": "stream",
          "text": [
            "/usr/local/lib/python3.6/dist-packages/sklearn/model_selection/_search.py:841: DeprecationWarning: The default of the `iid` parameter will change from True to False in version 0.22 and will be removed in 0.24. This will change numeric results when test-set sizes are unequal.\n",
            "  DeprecationWarning)\n"
          ],
          "name": "stderr"
        },
        {
          "output_type": "execute_result",
          "data": {
            "text/plain": [
              "RandomizedSearchCV(cv='warn', error_score='raise-deprecating',\n",
              "          estimator=RandomForestClassifier(bootstrap=True, class_weight=None, criterion='gini',\n",
              "            max_depth=None, max_features='auto', max_leaf_nodes=None,\n",
              "            min_impurity_decrease=0.0, min_impurity_split=None,\n",
              "            min_samples_leaf=1, min_samples_split=2,\n",
              "            min_weight_fraction_leaf=0.0, n_estimators='warn', n_jobs=None,\n",
              "            oob_score=False, random_state=1, verbose=0, warm_start=False),\n",
              "          fit_params=None, iid='warn', n_iter=50, n_jobs=-1,\n",
              "          param_distributions={'max_depth': range(2, 5), 'min_samples_split': <scipy.stats._distn_infrastructure.rv_frozen object at 0x7f2c16285d30>, 'min_samples_leaf': <scipy.stats._distn_infrastructure.rv_frozen object at 0x7f2c15f6d240>, 'bootstrap': [True, False], 'n_estimators': [100, 400, 700, 1000, 1500], 'criterion': ['gini', 'entropy'], 'max_features': ['sqrt', 'log2', None]},\n",
              "          pre_dispatch='2*n_jobs', random_state=None, refit=True,\n",
              "          return_train_score='warn', scoring=None, verbose=0)"
            ]
          },
          "metadata": {
            "tags": []
          },
          "execution_count": 41
        }
      ]
    },
    {
      "metadata": {
        "colab_type": "code",
        "outputId": "b6fc0f96-8bd0-4bbd-fe35-51aa4f85a6e0",
        "id": "7TJs5p80xLEt",
        "colab": {
          "base_uri": "https://localhost:8080/",
          "height": 34
        }
      },
      "cell_type": "code",
      "source": [
        "prediction_model4 = Model4.predict(X_test)\n",
        "print(accuracy_score(y_test,prediction_model4))"
      ],
      "execution_count": 42,
      "outputs": [
        {
          "output_type": "stream",
          "text": [
            "0.8351648351648352\n"
          ],
          "name": "stdout"
        }
      ]
    },
    {
      "metadata": {
        "id": "lkAzpEWl5xxQ",
        "colab_type": "code",
        "outputId": "0f8db967-f774-42b8-b8e1-3255df02b11a",
        "colab": {
          "base_uri": "https://localhost:8080/",
          "height": 51
        }
      },
      "cell_type": "code",
      "source": [
        "print('Best Prameters:', Model4.best_params_)\n",
        "print('Best Score:', Model4.best_score_)"
      ],
      "execution_count": 43,
      "outputs": [
        {
          "output_type": "stream",
          "text": [
            "Best Prameters: {'bootstrap': True, 'criterion': 'gini', 'max_depth': 3, 'max_features': 'log2', 'min_samples_leaf': 3, 'min_samples_split': 8, 'n_estimators': 100}\n",
            "Best Score: 0.8207547169811321\n"
          ],
          "name": "stdout"
        }
      ]
    },
    {
      "metadata": {
        "colab_type": "code",
        "outputId": "5dc531af-542e-4483-dec1-8f8ffa55ed74",
        "id": "_jhuUrM0xLE0",
        "colab": {
          "base_uri": "https://localhost:8080/",
          "height": 111
        }
      },
      "cell_type": "code",
      "source": [
        "modle4_matrix = pd.DataFrame()\n",
        "model4_matrix = pd.DataFrame(confusion_matrix(y_test, prediction_model4))\n",
        "model4_matrix.index = ['Actual No Disease','Actual Disease']\n",
        "model4_matrix.columns = ['Predicted No Disease','Predicted Disease']\n",
        "model4_matrix"
      ],
      "execution_count": 44,
      "outputs": [
        {
          "output_type": "execute_result",
          "data": {
            "text/html": [
              "<div>\n",
              "<style scoped>\n",
              "    .dataframe tbody tr th:only-of-type {\n",
              "        vertical-align: middle;\n",
              "    }\n",
              "\n",
              "    .dataframe tbody tr th {\n",
              "        vertical-align: top;\n",
              "    }\n",
              "\n",
              "    .dataframe thead th {\n",
              "        text-align: right;\n",
              "    }\n",
              "</style>\n",
              "<table border=\"1\" class=\"dataframe\">\n",
              "  <thead>\n",
              "    <tr style=\"text-align: right;\">\n",
              "      <th></th>\n",
              "      <th>Predicted No Disease</th>\n",
              "      <th>Predicted Disease</th>\n",
              "    </tr>\n",
              "  </thead>\n",
              "  <tbody>\n",
              "    <tr>\n",
              "      <th>Actual No Disease</th>\n",
              "      <td>31</td>\n",
              "      <td>10</td>\n",
              "    </tr>\n",
              "    <tr>\n",
              "      <th>Actual Disease</th>\n",
              "      <td>5</td>\n",
              "      <td>45</td>\n",
              "    </tr>\n",
              "  </tbody>\n",
              "</table>\n",
              "</div>"
            ],
            "text/plain": [
              "                   Predicted No Disease  Predicted Disease\n",
              "Actual No Disease                    31                 10\n",
              "Actual Disease                        5                 45"
            ]
          },
          "metadata": {
            "tags": []
          },
          "execution_count": 44
        }
      ]
    },
    {
      "metadata": {
        "id": "_HR2p6Vw5s9K",
        "colab_type": "text"
      },
      "cell_type": "markdown",
      "source": [
        "\n",
        "\n",
        "---\n",
        "\n"
      ]
    },
    {
      "metadata": {
        "id": "uuQdhK41-E2M",
        "colab_type": "text"
      },
      "cell_type": "markdown",
      "source": [
        "**Normalizing the values for the upcoming models**"
      ]
    },
    {
      "metadata": {
        "colab_type": "code",
        "id": "G82c3kXGxLE3",
        "colab": {}
      },
      "cell_type": "code",
      "source": [
        "scaler = StandardScaler().fit(X)\n",
        "X1 = scaler.transform(X)"
      ],
      "execution_count": 0,
      "outputs": []
    },
    {
      "metadata": {
        "colab_type": "code",
        "outputId": "8e980903-b585-4c75-93a1-89447660a42f",
        "id": "nfQMXYQIxLE-",
        "colab": {
          "base_uri": "https://localhost:8080/",
          "height": 204
        }
      },
      "cell_type": "code",
      "source": [
        "X1 = pd.DataFrame(X1)\n",
        "X1.head()"
      ],
      "execution_count": 46,
      "outputs": [
        {
          "output_type": "execute_result",
          "data": {
            "text/html": [
              "<div>\n",
              "<style scoped>\n",
              "    .dataframe tbody tr th:only-of-type {\n",
              "        vertical-align: middle;\n",
              "    }\n",
              "\n",
              "    .dataframe tbody tr th {\n",
              "        vertical-align: top;\n",
              "    }\n",
              "\n",
              "    .dataframe thead th {\n",
              "        text-align: right;\n",
              "    }\n",
              "</style>\n",
              "<table border=\"1\" class=\"dataframe\">\n",
              "  <thead>\n",
              "    <tr style=\"text-align: right;\">\n",
              "      <th></th>\n",
              "      <th>0</th>\n",
              "      <th>1</th>\n",
              "      <th>2</th>\n",
              "      <th>3</th>\n",
              "      <th>4</th>\n",
              "      <th>5</th>\n",
              "      <th>6</th>\n",
              "      <th>7</th>\n",
              "      <th>8</th>\n",
              "      <th>9</th>\n",
              "      <th>10</th>\n",
              "      <th>11</th>\n",
              "      <th>12</th>\n",
              "    </tr>\n",
              "  </thead>\n",
              "  <tbody>\n",
              "    <tr>\n",
              "      <th>0</th>\n",
              "      <td>0.952197</td>\n",
              "      <td>0.681005</td>\n",
              "      <td>1.973123</td>\n",
              "      <td>0.763956</td>\n",
              "      <td>-0.256334</td>\n",
              "      <td>2.394438</td>\n",
              "      <td>-1.005832</td>\n",
              "      <td>0.015443</td>\n",
              "      <td>-0.696631</td>\n",
              "      <td>1.087338</td>\n",
              "      <td>-2.274579</td>\n",
              "      <td>-0.714429</td>\n",
              "      <td>-2.148873</td>\n",
              "    </tr>\n",
              "    <tr>\n",
              "      <th>1</th>\n",
              "      <td>-1.915313</td>\n",
              "      <td>0.681005</td>\n",
              "      <td>1.002577</td>\n",
              "      <td>-0.092738</td>\n",
              "      <td>0.072199</td>\n",
              "      <td>-0.417635</td>\n",
              "      <td>0.898962</td>\n",
              "      <td>1.633471</td>\n",
              "      <td>-0.696631</td>\n",
              "      <td>2.122573</td>\n",
              "      <td>-2.274579</td>\n",
              "      <td>-0.714429</td>\n",
              "      <td>-0.512922</td>\n",
              "    </tr>\n",
              "    <tr>\n",
              "      <th>2</th>\n",
              "      <td>-1.474158</td>\n",
              "      <td>-1.468418</td>\n",
              "      <td>0.032031</td>\n",
              "      <td>-0.092738</td>\n",
              "      <td>-0.816773</td>\n",
              "      <td>-0.417635</td>\n",
              "      <td>-1.005832</td>\n",
              "      <td>0.977514</td>\n",
              "      <td>-0.696631</td>\n",
              "      <td>0.310912</td>\n",
              "      <td>0.976352</td>\n",
              "      <td>-0.714429</td>\n",
              "      <td>-0.512922</td>\n",
              "    </tr>\n",
              "    <tr>\n",
              "      <th>3</th>\n",
              "      <td>0.180175</td>\n",
              "      <td>0.681005</td>\n",
              "      <td>0.032031</td>\n",
              "      <td>-0.663867</td>\n",
              "      <td>-0.198357</td>\n",
              "      <td>-0.417635</td>\n",
              "      <td>0.898962</td>\n",
              "      <td>1.239897</td>\n",
              "      <td>-0.696631</td>\n",
              "      <td>-0.206705</td>\n",
              "      <td>0.976352</td>\n",
              "      <td>-0.714429</td>\n",
              "      <td>-0.512922</td>\n",
              "    </tr>\n",
              "    <tr>\n",
              "      <th>4</th>\n",
              "      <td>0.290464</td>\n",
              "      <td>-1.468418</td>\n",
              "      <td>-0.938515</td>\n",
              "      <td>-0.663867</td>\n",
              "      <td>2.082050</td>\n",
              "      <td>-0.417635</td>\n",
              "      <td>0.898962</td>\n",
              "      <td>0.583939</td>\n",
              "      <td>1.435481</td>\n",
              "      <td>-0.379244</td>\n",
              "      <td>0.976352</td>\n",
              "      <td>-0.714429</td>\n",
              "      <td>-0.512922</td>\n",
              "    </tr>\n",
              "  </tbody>\n",
              "</table>\n",
              "</div>"
            ],
            "text/plain": [
              "         0         1         2         3         4         5         6   \\\n",
              "0  0.952197  0.681005  1.973123  0.763956 -0.256334  2.394438 -1.005832   \n",
              "1 -1.915313  0.681005  1.002577 -0.092738  0.072199 -0.417635  0.898962   \n",
              "2 -1.474158 -1.468418  0.032031 -0.092738 -0.816773 -0.417635 -1.005832   \n",
              "3  0.180175  0.681005  0.032031 -0.663867 -0.198357 -0.417635  0.898962   \n",
              "4  0.290464 -1.468418 -0.938515 -0.663867  2.082050 -0.417635  0.898962   \n",
              "\n",
              "         7         8         9         10        11        12  \n",
              "0  0.015443 -0.696631  1.087338 -2.274579 -0.714429 -2.148873  \n",
              "1  1.633471 -0.696631  2.122573 -2.274579 -0.714429 -0.512922  \n",
              "2  0.977514 -0.696631  0.310912  0.976352 -0.714429 -0.512922  \n",
              "3  1.239897 -0.696631 -0.206705  0.976352 -0.714429 -0.512922  \n",
              "4  0.583939  1.435481 -0.379244  0.976352 -0.714429 -0.512922  "
            ]
          },
          "metadata": {
            "tags": []
          },
          "execution_count": 46
        }
      ]
    },
    {
      "metadata": {
        "id": "3sqEr1IR-Wl2",
        "colab_type": "code",
        "colab": {}
      },
      "cell_type": "code",
      "source": [
        "X1_train,X1_test,y1_train,y1_test = train_test_split(X1, y, random_state=1, test_size=0.30, stratify=y)"
      ],
      "execution_count": 0,
      "outputs": []
    },
    {
      "metadata": {
        "colab_type": "text",
        "id": "IGzlES0oxLFH"
      },
      "cell_type": "markdown",
      "source": [
        "**Model 5 :  KNN - By finding best value of K**"
      ]
    },
    {
      "metadata": {
        "colab_type": "code",
        "id": "3Jvigjru6YI4",
        "outputId": "722cf10f-1672-42ca-892b-947f914decd0",
        "colab": {
          "base_uri": "https://localhost:8080/",
          "height": 34
        }
      },
      "cell_type": "code",
      "source": [
        "accuracy_list = []\n",
        "\n",
        "def knn1():\n",
        "  for i in range(1,30):\n",
        "    model = KNeighborsClassifier(n_neighbors=i)\n",
        "    model.fit(X1_train,y1_train)\n",
        "    pred = model.predict(X1_test)\n",
        "    accuracy_list.append(accuracy_score(y1_test,pred))\n",
        "       \n",
        "  print(\"Max accuracy and its k value is:\", max([(v,i+1) for i, v in enumerate(accuracy_list)])) \n",
        "\n",
        "knn1()"
      ],
      "execution_count": 48,
      "outputs": [
        {
          "output_type": "stream",
          "text": [
            "Max accuracy and its k value is: (0.8901098901098901, 14)\n"
          ],
          "name": "stdout"
        }
      ]
    },
    {
      "metadata": {
        "colab_type": "code",
        "outputId": "bc8c30eb-48ae-4385-e0ce-b6d8b8e447bc",
        "id": "lh0sqzrK6YI6",
        "colab": {
          "base_uri": "https://localhost:8080/",
          "height": 388
        }
      },
      "cell_type": "code",
      "source": [
        "def k_plot():\n",
        "  plt.figure(figsize=(15,6))\n",
        "  plt.plot(range(1,30), accuracy_list, linestyle='dashed', marker='o', markerfacecolor='red', markersize='10')\n",
        "  plt.xlabel('K- values')\n",
        "  plt.ylabel('Accuracy of model')\n",
        "  plt.show()\n",
        "k_plot()    "
      ],
      "execution_count": 49,
      "outputs": [
        {
          "output_type": "display_data",
          "data": {
            "image/png": "[encoded data removed]",
            "text/plain": [
              "<Figure size 1080x432 with 1 Axes>"
            ]
          },
          "metadata": {
            "tags": []
          }
        }
      ]
    },
    {
      "metadata": {
        "colab_type": "code",
        "outputId": "7697bbf3-dabf-4803-ffa5-4660d899b430",
        "id": "F4M_x_Z46YI9",
        "colab": {
          "base_uri": "https://localhost:8080/",
          "height": 68
        }
      },
      "cell_type": "code",
      "source": [
        "Model5 = KNeighborsClassifier(n_neighbors = 14)\n",
        "Model5.fit(X1_train, y1_train)"
      ],
      "execution_count": 50,
      "outputs": [
        {
          "output_type": "execute_result",
          "data": {
            "text/plain": [
              "KNeighborsClassifier(algorithm='auto', leaf_size=30, metric='minkowski',\n",
              "           metric_params=None, n_jobs=None, n_neighbors=14, p=2,\n",
              "           weights='uniform')"
            ]
          },
          "metadata": {
            "tags": []
          },
          "execution_count": 50
        }
      ]
    },
    {
      "metadata": {
        "colab_type": "code",
        "outputId": "f254609d-0576-4914-d6ea-99f0736cbd54",
        "id": "xBWQ0-0_6YJC",
        "colab": {
          "base_uri": "https://localhost:8080/",
          "height": 34
        }
      },
      "cell_type": "code",
      "source": [
        "prediction_model5 = Model5.predict(X1_test)\n",
        "accuracy_score(y1_test,prediction_model5)"
      ],
      "execution_count": 51,
      "outputs": [
        {
          "output_type": "execute_result",
          "data": {
            "text/plain": [
              "0.8901098901098901"
            ]
          },
          "metadata": {
            "tags": []
          },
          "execution_count": 51
        }
      ]
    },
    {
      "metadata": {
        "colab_type": "code",
        "outputId": "5607a6c0-87eb-426b-d2f8-87b1157cce64",
        "id": "RL6lTS2mxLFR",
        "colab": {
          "base_uri": "https://localhost:8080/",
          "height": 111
        }
      },
      "cell_type": "code",
      "source": [
        "modle5_matrix = pd.DataFrame()\n",
        "model5_matrix = pd.DataFrame(confusion_matrix(y1_test, prediction_model5))\n",
        "model5_matrix.index = ['Actual No Disease','Actual Disease']\n",
        "model5_matrix.columns = ['Predicted No Disease','Predicted Disease']\n",
        "model5_matrix"
      ],
      "execution_count": 52,
      "outputs": [
        {
          "output_type": "execute_result",
          "data": {
            "text/html": [
              "<div>\n",
              "<style scoped>\n",
              "    .dataframe tbody tr th:only-of-type {\n",
              "        vertical-align: middle;\n",
              "    }\n",
              "\n",
              "    .dataframe tbody tr th {\n",
              "        vertical-align: top;\n",
              "    }\n",
              "\n",
              "    .dataframe thead th {\n",
              "        text-align: right;\n",
              "    }\n",
              "</style>\n",
              "<table border=\"1\" class=\"dataframe\">\n",
              "  <thead>\n",
              "    <tr style=\"text-align: right;\">\n",
              "      <th></th>\n",
              "      <th>Predicted No Disease</th>\n",
              "      <th>Predicted Disease</th>\n",
              "    </tr>\n",
              "  </thead>\n",
              "  <tbody>\n",
              "    <tr>\n",
              "      <th>Actual No Disease</th>\n",
              "      <td>35</td>\n",
              "      <td>6</td>\n",
              "    </tr>\n",
              "    <tr>\n",
              "      <th>Actual Disease</th>\n",
              "      <td>4</td>\n",
              "      <td>46</td>\n",
              "    </tr>\n",
              "  </tbody>\n",
              "</table>\n",
              "</div>"
            ],
            "text/plain": [
              "                   Predicted No Disease  Predicted Disease\n",
              "Actual No Disease                    35                  6\n",
              "Actual Disease                        4                 46"
            ]
          },
          "metadata": {
            "tags": []
          },
          "execution_count": 52
        }
      ]
    },
    {
      "metadata": {
        "id": "vaL1clXT7AMl",
        "colab_type": "text"
      },
      "cell_type": "markdown",
      "source": [
        "\n",
        "\n",
        "---\n",
        "\n"
      ]
    },
    {
      "metadata": {
        "id": "Fwx5sJ_I7AyB",
        "colab_type": "text"
      },
      "cell_type": "markdown",
      "source": [
        "**Model 6: Knn with RandomizedSearchCV**"
      ]
    },
    {
      "metadata": {
        "colab_type": "code",
        "outputId": "86652fca-2f1d-48c6-abd8-ac39d2fce5d1",
        "id": "TERWO4l0xLFV",
        "colab": {
          "base_uri": "https://localhost:8080/",
          "height": 207
        }
      },
      "cell_type": "code",
      "source": [
        "def knn2():\n",
        "  \n",
        "  knn = KNeighborsClassifier()\n",
        "  params = {'n_neighbors':range(14,20),\n",
        "          'algorithm':['auto','ball_tree'],\n",
        "          'leaf_size':2**np.arange(10),\n",
        "          'metric':['euclidean','manhattan','minkowski','chebyshev']}\n",
        "  n_iter_search = 25\n",
        "\n",
        "  return RandomizedSearchCV(knn, random_state=0, param_distributions = params, n_iter = n_iter_search, n_jobs=-1)\n",
        "  \n",
        "Model6 = knn2()\n",
        "Model6.fit(X1_train,y1_train)"
      ],
      "execution_count": 53,
      "outputs": [
        {
          "output_type": "stream",
          "text": [
            "/usr/local/lib/python3.6/dist-packages/sklearn/model_selection/_search.py:841: DeprecationWarning: The default of the `iid` parameter will change from True to False in version 0.22 and will be removed in 0.24. This will change numeric results when test-set sizes are unequal.\n",
            "  DeprecationWarning)\n"
          ],
          "name": "stderr"
        },
        {
          "output_type": "execute_result",
          "data": {
            "text/plain": [
              "RandomizedSearchCV(cv='warn', error_score='raise-deprecating',\n",
              "          estimator=KNeighborsClassifier(algorithm='auto', leaf_size=30, metric='minkowski',\n",
              "           metric_params=None, n_jobs=None, n_neighbors=5, p=2,\n",
              "           weights='uniform'),\n",
              "          fit_params=None, iid='warn', n_iter=25, n_jobs=-1,\n",
              "          param_distributions={'n_neighbors': range(14, 20), 'algorithm': ['auto', 'ball_tree'], 'leaf_size': array([  1,   2,   4,   8,  16,  32,  64, 128, 256, 512]), 'metric': ['euclidean', 'manhattan', 'minkowski', 'chebyshev']},\n",
              "          pre_dispatch='2*n_jobs', random_state=0, refit=True,\n",
              "          return_train_score='warn', scoring=None, verbose=0)"
            ]
          },
          "metadata": {
            "tags": []
          },
          "execution_count": 53
        }
      ]
    },
    {
      "metadata": {
        "colab_type": "code",
        "outputId": "bfaebeb0-989c-47b0-87be-28f78be55b65",
        "id": "gbv2vuGRxLFX",
        "colab": {
          "base_uri": "https://localhost:8080/",
          "height": 34
        }
      },
      "cell_type": "code",
      "source": [
        "prediction_model6 = Model6.predict(X1_test)\n",
        "accuracy_score(y1_test,prediction_model6)"
      ],
      "execution_count": 54,
      "outputs": [
        {
          "output_type": "execute_result",
          "data": {
            "text/plain": [
              "0.8681318681318682"
            ]
          },
          "metadata": {
            "tags": []
          },
          "execution_count": 54
        }
      ]
    },
    {
      "metadata": {
        "colab_type": "code",
        "outputId": "cdfa8bbe-9c63-4a26-8337-428bf48c3005",
        "id": "F4iuMtVtxLFa",
        "colab": {
          "base_uri": "https://localhost:8080/",
          "height": 85
        }
      },
      "cell_type": "code",
      "source": [
        "Model6.best_params_"
      ],
      "execution_count": 55,
      "outputs": [
        {
          "output_type": "execute_result",
          "data": {
            "text/plain": [
              "{'algorithm': 'ball_tree',\n",
              " 'leaf_size': 256,\n",
              " 'metric': 'manhattan',\n",
              " 'n_neighbors': 17}"
            ]
          },
          "metadata": {
            "tags": []
          },
          "execution_count": 55
        }
      ]
    },
    {
      "metadata": {
        "colab_type": "code",
        "outputId": "067d7125-7d52-4dc2-af61-9423e33903eb",
        "id": "__W8zfHixLFb",
        "colab": {
          "base_uri": "https://localhost:8080/",
          "height": 111
        }
      },
      "cell_type": "code",
      "source": [
        "modle6_matrix = pd.DataFrame()\n",
        "model6_matrix = pd.DataFrame(confusion_matrix(y1_test, prediction_model6))\n",
        "model6_matrix.index = ['Actual No Disease','Actual Disease']\n",
        "model6_matrix.columns = ['Predicted No Disease','Predicted Disease']\n",
        "model6_matrix"
      ],
      "execution_count": 56,
      "outputs": [
        {
          "output_type": "execute_result",
          "data": {
            "text/html": [
              "<div>\n",
              "<style scoped>\n",
              "    .dataframe tbody tr th:only-of-type {\n",
              "        vertical-align: middle;\n",
              "    }\n",
              "\n",
              "    .dataframe tbody tr th {\n",
              "        vertical-align: top;\n",
              "    }\n",
              "\n",
              "    .dataframe thead th {\n",
              "        text-align: right;\n",
              "    }\n",
              "</style>\n",
              "<table border=\"1\" class=\"dataframe\">\n",
              "  <thead>\n",
              "    <tr style=\"text-align: right;\">\n",
              "      <th></th>\n",
              "      <th>Predicted No Disease</th>\n",
              "      <th>Predicted Disease</th>\n",
              "    </tr>\n",
              "  </thead>\n",
              "  <tbody>\n",
              "    <tr>\n",
              "      <th>Actual No Disease</th>\n",
              "      <td>34</td>\n",
              "      <td>7</td>\n",
              "    </tr>\n",
              "    <tr>\n",
              "      <th>Actual Disease</th>\n",
              "      <td>5</td>\n",
              "      <td>45</td>\n",
              "    </tr>\n",
              "  </tbody>\n",
              "</table>\n",
              "</div>"
            ],
            "text/plain": [
              "                   Predicted No Disease  Predicted Disease\n",
              "Actual No Disease                    34                  7\n",
              "Actual Disease                        5                 45"
            ]
          },
          "metadata": {
            "tags": []
          },
          "execution_count": 56
        }
      ]
    },
    {
      "metadata": {
        "id": "0OMMg06h77lb",
        "colab_type": "text"
      },
      "cell_type": "markdown",
      "source": [
        "\n",
        "\n",
        "---\n",
        "\n"
      ]
    },
    {
      "metadata": {
        "id": "0Jw3JL-T78sc",
        "colab_type": "text"
      },
      "cell_type": "markdown",
      "source": [
        "**Model 7: SVC**"
      ]
    },
    {
      "metadata": {
        "colab_type": "code",
        "outputId": "1d9d9360-1b43-480d-b04f-5bfbfe7fb688",
        "id": "pZSxUpm6xLFe",
        "colab": {
          "base_uri": "https://localhost:8080/",
          "height": 85
        }
      },
      "cell_type": "code",
      "source": [
        "def svc():\n",
        "  \n",
        "  return  SVC(kernel='linear')\n",
        "\n",
        "Model7 = SVC()\n",
        "Model7.fit(X1_train, y1_train)"
      ],
      "execution_count": 57,
      "outputs": [
        {
          "output_type": "execute_result",
          "data": {
            "text/plain": [
              "SVC(C=1.0, cache_size=200, class_weight=None, coef0=0.0,\n",
              "  decision_function_shape='ovr', degree=3, gamma='auto_deprecated',\n",
              "  kernel='rbf', max_iter=-1, probability=False, random_state=None,\n",
              "  shrinking=True, tol=0.001, verbose=False)"
            ]
          },
          "metadata": {
            "tags": []
          },
          "execution_count": 57
        }
      ]
    },
    {
      "metadata": {
        "colab_type": "code",
        "outputId": "30ae36e1-1106-4d96-b28f-0f6e448b2fe2",
        "id": "JboGOwNOxLFi",
        "colab": {
          "base_uri": "https://localhost:8080/",
          "height": 34
        }
      },
      "cell_type": "code",
      "source": [
        "prediction_model7 = Model7.predict(X1_test)\n",
        "accuracy_score(y1_test,prediction_model7)"
      ],
      "execution_count": 58,
      "outputs": [
        {
          "output_type": "execute_result",
          "data": {
            "text/plain": [
              "0.8351648351648352"
            ]
          },
          "metadata": {
            "tags": []
          },
          "execution_count": 58
        }
      ]
    },
    {
      "metadata": {
        "colab_type": "code",
        "outputId": "56046f47-088f-4077-c2ea-2da04fbdb015",
        "id": "UJDJDTR4xLFk",
        "colab": {
          "base_uri": "https://localhost:8080/",
          "height": 111
        }
      },
      "cell_type": "code",
      "source": [
        "modle7_matrix = pd.DataFrame()\n",
        "model7_matrix = pd.DataFrame(confusion_matrix(y1_test, prediction_model7))\n",
        "model7_matrix.index = ['Actual No Disease','Actual Disease']\n",
        "model7_matrix.columns = ['Predicted No Disease','Predicted Disease']\n",
        "model7_matrix"
      ],
      "execution_count": 59,
      "outputs": [
        {
          "output_type": "execute_result",
          "data": {
            "text/html": [
              "<div>\n",
              "<style scoped>\n",
              "    .dataframe tbody tr th:only-of-type {\n",
              "        vertical-align: middle;\n",
              "    }\n",
              "\n",
              "    .dataframe tbody tr th {\n",
              "        vertical-align: top;\n",
              "    }\n",
              "\n",
              "    .dataframe thead th {\n",
              "        text-align: right;\n",
              "    }\n",
              "</style>\n",
              "<table border=\"1\" class=\"dataframe\">\n",
              "  <thead>\n",
              "    <tr style=\"text-align: right;\">\n",
              "      <th></th>\n",
              "      <th>Predicted No Disease</th>\n",
              "      <th>Predicted Disease</th>\n",
              "    </tr>\n",
              "  </thead>\n",
              "  <tbody>\n",
              "    <tr>\n",
              "      <th>Actual No Disease</th>\n",
              "      <td>33</td>\n",
              "      <td>8</td>\n",
              "    </tr>\n",
              "    <tr>\n",
              "      <th>Actual Disease</th>\n",
              "      <td>7</td>\n",
              "      <td>43</td>\n",
              "    </tr>\n",
              "  </tbody>\n",
              "</table>\n",
              "</div>"
            ],
            "text/plain": [
              "                   Predicted No Disease  Predicted Disease\n",
              "Actual No Disease                    33                  8\n",
              "Actual Disease                        7                 43"
            ]
          },
          "metadata": {
            "tags": []
          },
          "execution_count": 59
        }
      ]
    },
    {
      "metadata": {
        "id": "KRmH6S6htdvr",
        "colab_type": "text"
      },
      "cell_type": "markdown",
      "source": [
        "\n",
        "\n",
        "---\n",
        "\n"
      ]
    },
    {
      "metadata": {
        "id": "hChWPgI52PYl",
        "colab_type": "text"
      },
      "cell_type": "markdown",
      "source": [
        "**Model 8: Naive_bayes**"
      ]
    },
    {
      "metadata": {
        "id": "G1QnlH9D2TyO",
        "colab_type": "code",
        "outputId": "7b464db8-5675-43d4-a50a-0ee15488ee71",
        "colab": {
          "base_uri": "https://localhost:8080/",
          "height": 34
        }
      },
      "cell_type": "code",
      "source": [
        "def naive():\n",
        "  return GaussianNB()\n",
        "Model8 = GaussianNB()\n",
        "Model8.fit(X_train,y_train)"
      ],
      "execution_count": 60,
      "outputs": [
        {
          "output_type": "execute_result",
          "data": {
            "text/plain": [
              "GaussianNB(priors=None, var_smoothing=1e-09)"
            ]
          },
          "metadata": {
            "tags": []
          },
          "execution_count": 60
        }
      ]
    },
    {
      "metadata": {
        "id": "SsRK-pt22gfE",
        "colab_type": "code",
        "outputId": "51672851-ca76-4f46-c306-61cdeee2cccb",
        "colab": {
          "base_uri": "https://localhost:8080/",
          "height": 34
        }
      },
      "cell_type": "code",
      "source": [
        "prediction_model8 = Model8.predict(X_test)\n",
        "accuracy_score(y_test,prediction_model8)"
      ],
      "execution_count": 61,
      "outputs": [
        {
          "output_type": "execute_result",
          "data": {
            "text/plain": [
              "0.8131868131868132"
            ]
          },
          "metadata": {
            "tags": []
          },
          "execution_count": 61
        }
      ]
    },
    {
      "metadata": {
        "id": "mUyv_A_x8y0h",
        "colab_type": "code",
        "outputId": "99688a86-ef9c-45c4-a3f1-a42d86516726",
        "colab": {
          "base_uri": "https://localhost:8080/",
          "height": 111
        }
      },
      "cell_type": "code",
      "source": [
        "modle8_matrix = pd.DataFrame()\n",
        "model8_matrix = pd.DataFrame(confusion_matrix(y1_test, prediction_model8))\n",
        "model8_matrix.index = ['Actual No Disease','Actual Disease']\n",
        "model8_matrix.columns = ['Predicted No Disease','Predicted Disease']\n",
        "model8_matrix"
      ],
      "execution_count": 62,
      "outputs": [
        {
          "output_type": "execute_result",
          "data": {
            "text/html": [
              "<div>\n",
              "<style scoped>\n",
              "    .dataframe tbody tr th:only-of-type {\n",
              "        vertical-align: middle;\n",
              "    }\n",
              "\n",
              "    .dataframe tbody tr th {\n",
              "        vertical-align: top;\n",
              "    }\n",
              "\n",
              "    .dataframe thead th {\n",
              "        text-align: right;\n",
              "    }\n",
              "</style>\n",
              "<table border=\"1\" class=\"dataframe\">\n",
              "  <thead>\n",
              "    <tr style=\"text-align: right;\">\n",
              "      <th></th>\n",
              "      <th>Predicted No Disease</th>\n",
              "      <th>Predicted Disease</th>\n",
              "    </tr>\n",
              "  </thead>\n",
              "  <tbody>\n",
              "    <tr>\n",
              "      <th>Actual No Disease</th>\n",
              "      <td>32</td>\n",
              "      <td>9</td>\n",
              "    </tr>\n",
              "    <tr>\n",
              "      <th>Actual Disease</th>\n",
              "      <td>8</td>\n",
              "      <td>42</td>\n",
              "    </tr>\n",
              "  </tbody>\n",
              "</table>\n",
              "</div>"
            ],
            "text/plain": [
              "                   Predicted No Disease  Predicted Disease\n",
              "Actual No Disease                    32                  9\n",
              "Actual Disease                        8                 42"
            ]
          },
          "metadata": {
            "tags": []
          },
          "execution_count": 62
        }
      ]
    },
    {
      "metadata": {
        "id": "zsBSFMmYgifH",
        "colab_type": "text"
      },
      "cell_type": "markdown",
      "source": [
        "**Model 9: Logistic Regression**"
      ]
    },
    {
      "metadata": {
        "id": "WsYP_I1KgmFS",
        "colab_type": "code",
        "outputId": "0b84a2fe-eb40-49aa-d9bf-1c1d8434d439",
        "colab": {
          "base_uri": "https://localhost:8080/",
          "height": 85
        }
      },
      "cell_type": "code",
      "source": [
        "def logreg():\n",
        "  return LogisticRegression()\n",
        "Model9 = logreg()\n",
        "Model9.fit(X_train,y_train)"
      ],
      "execution_count": 63,
      "outputs": [
        {
          "output_type": "execute_result",
          "data": {
            "text/plain": [
              "LogisticRegression(C=1.0, class_weight=None, dual=False, fit_intercept=True,\n",
              "          intercept_scaling=1, max_iter=100, multi_class='warn',\n",
              "          n_jobs=None, penalty='l2', random_state=None, solver='warn',\n",
              "          tol=0.0001, verbose=0, warm_start=False)"
            ]
          },
          "metadata": {
            "tags": []
          },
          "execution_count": 63
        }
      ]
    },
    {
      "metadata": {
        "id": "0sbURyssi8LT",
        "colab_type": "code",
        "outputId": "36c97a07-0e5c-46d6-fd43-70dec4c887d5",
        "colab": {
          "base_uri": "https://localhost:8080/",
          "height": 34
        }
      },
      "cell_type": "code",
      "source": [
        "prediction_model9 = Model9.predict(X_test)\n",
        "accuracy_score(y_test,prediction_model9)"
      ],
      "execution_count": 64,
      "outputs": [
        {
          "output_type": "execute_result",
          "data": {
            "text/plain": [
              "0.8681318681318682"
            ]
          },
          "metadata": {
            "tags": []
          },
          "execution_count": 64
        }
      ]
    },
    {
      "metadata": {
        "id": "6jhCdkz78oiF",
        "colab_type": "text"
      },
      "cell_type": "markdown",
      "source": [
        "**Model 10: Logistic Regression with Gridsearchcv**"
      ]
    },
    {
      "metadata": {
        "id": "c5Ku-sAjjcgG",
        "colab_type": "code",
        "outputId": "73b0d43d-5d4d-42dd-dff4-ab9e68452559",
        "colab": {
          "base_uri": "https://localhost:8080/",
          "height": 241
        }
      },
      "cell_type": "code",
      "source": [
        "def logreg2():\n",
        "  params = {'penalty': ['l1','l2'], 'C': np.logspace(0,4,10)}\n",
        "  logr = LogisticRegression()\n",
        "  model = GridSearchCV(logr, params, cv=5, verbose=0)\n",
        "  return model\n",
        "Model10 = logreg2()\n",
        "Model10.fit(X_train,y_train)  "
      ],
      "execution_count": 65,
      "outputs": [
        {
          "output_type": "stream",
          "text": [
            "/usr/local/lib/python3.6/dist-packages/sklearn/model_selection/_search.py:841: DeprecationWarning: The default of the `iid` parameter will change from True to False in version 0.22 and will be removed in 0.24. This will change numeric results when test-set sizes are unequal.\n",
            "  DeprecationWarning)\n"
          ],
          "name": "stderr"
        },
        {
          "output_type": "execute_result",
          "data": {
            "text/plain": [
              "GridSearchCV(cv=5, error_score='raise-deprecating',\n",
              "       estimator=LogisticRegression(C=1.0, class_weight=None, dual=False, fit_intercept=True,\n",
              "          intercept_scaling=1, max_iter=100, multi_class='warn',\n",
              "          n_jobs=None, penalty='l2', random_state=None, solver='warn',\n",
              "          tol=0.0001, verbose=0, warm_start=False),\n",
              "       fit_params=None, iid='warn', n_jobs=None,\n",
              "       param_grid={'penalty': ['l1', 'l2'], 'C': array([1.00000e+00, 2.78256e+00, 7.74264e+00, 2.15443e+01, 5.99484e+01,\n",
              "       1.66810e+02, 4.64159e+02, 1.29155e+03, 3.59381e+03, 1.00000e+04])},\n",
              "       pre_dispatch='2*n_jobs', refit=True, return_train_score='warn',\n",
              "       scoring=None, verbose=0)"
            ]
          },
          "metadata": {
            "tags": []
          },
          "execution_count": 65
        }
      ]
    },
    {
      "metadata": {
        "id": "squQXroRj35P",
        "colab_type": "code",
        "outputId": "e03e72af-aaaa-4881-9d7e-1cb25792f4ce",
        "colab": {
          "base_uri": "https://localhost:8080/",
          "height": 34
        }
      },
      "cell_type": "code",
      "source": [
        "prediction_model10 = Model10.predict(X_test)\n",
        "accuracy_score(y_test,prediction_model10)"
      ],
      "execution_count": 66,
      "outputs": [
        {
          "output_type": "execute_result",
          "data": {
            "text/plain": [
              "0.8681318681318682"
            ]
          },
          "metadata": {
            "tags": []
          },
          "execution_count": 66
        }
      ]
    },
    {
      "metadata": {
        "id": "6RF7-PsfPiId",
        "colab_type": "code",
        "outputId": "23770652-a8fd-45d2-bc03-b70c6b41bb50",
        "colab": {
          "base_uri": "https://localhost:8080/",
          "height": 51
        }
      },
      "cell_type": "code",
      "source": [
        "print('Best Penalty:', Model10.best_estimator_.get_params()['penalty'])\n",
        "print('Best C:', Model10.best_estimator_.get_params()['C'])"
      ],
      "execution_count": 67,
      "outputs": [
        {
          "output_type": "stream",
          "text": [
            "Best Penalty: l1\n",
            "Best C: 7.742636826811269\n"
          ],
          "name": "stdout"
        }
      ]
    },
    {
      "metadata": {
        "id": "wuhz_qLH8eq1",
        "colab_type": "code",
        "outputId": "d9321d2d-f12a-4620-8dd6-61188d5b36c8",
        "colab": {
          "base_uri": "https://localhost:8080/",
          "height": 111
        }
      },
      "cell_type": "code",
      "source": [
        "modle10_matrix = pd.DataFrame()\n",
        "model10_matrix = pd.DataFrame(confusion_matrix(y_test, prediction_model10))\n",
        "model10_matrix.index = ['Actual No Disease','Actual Disease']\n",
        "model10_matrix.columns = ['Predicted No Disease','Predicted Disease']\n",
        "model10_matrix"
      ],
      "execution_count": 68,
      "outputs": [
        {
          "output_type": "execute_result",
          "data": {
            "text/html": [
              "<div>\n",
              "<style scoped>\n",
              "    .dataframe tbody tr th:only-of-type {\n",
              "        vertical-align: middle;\n",
              "    }\n",
              "\n",
              "    .dataframe tbody tr th {\n",
              "        vertical-align: top;\n",
              "    }\n",
              "\n",
              "    .dataframe thead th {\n",
              "        text-align: right;\n",
              "    }\n",
              "</style>\n",
              "<table border=\"1\" class=\"dataframe\">\n",
              "  <thead>\n",
              "    <tr style=\"text-align: right;\">\n",
              "      <th></th>\n",
              "      <th>Predicted No Disease</th>\n",
              "      <th>Predicted Disease</th>\n",
              "    </tr>\n",
              "  </thead>\n",
              "  <tbody>\n",
              "    <tr>\n",
              "      <th>Actual No Disease</th>\n",
              "      <td>35</td>\n",
              "      <td>6</td>\n",
              "    </tr>\n",
              "    <tr>\n",
              "      <th>Actual Disease</th>\n",
              "      <td>6</td>\n",
              "      <td>44</td>\n",
              "    </tr>\n",
              "  </tbody>\n",
              "</table>\n",
              "</div>"
            ],
            "text/plain": [
              "                   Predicted No Disease  Predicted Disease\n",
              "Actual No Disease                    35                  6\n",
              "Actual Disease                        6                 44"
            ]
          },
          "metadata": {
            "tags": []
          },
          "execution_count": 68
        }
      ]
    },
    {
      "metadata": {
        "id": "_n0PHwCH9MeK",
        "colab_type": "code",
        "outputId": "cf2d4782-5b8e-40d5-abfe-b9537f0484b2",
        "colab": {
          "base_uri": "https://localhost:8080/",
          "height": 366
        }
      },
      "cell_type": "code",
      "source": [
        "def accuracy():\n",
        "  dtree = accuracy_score(y_test,prediction_model2)\n",
        "  rf = accuracy_score(y_test,prediction_model4)\n",
        "  knn = accuracy_score(y1_test,prediction_model5)\n",
        "  svc = accuracy_score(y1_test,prediction_model7)\n",
        "  nb = accuracy_score(y_test,prediction_model8)\n",
        "  log = accuracy_score(y_test,prediction_model10)\n",
        "  \n",
        "  methods = ['Decision Tree', 'Random Forest', 'KNN', 'SVM', 'Naive Bayes', 'Logistic Regression']\n",
        "  accuracy = [dtree*100, rf*100, knn*100, svc*100, nb*100, log*100]\n",
        "  \n",
        "  plt.figure(figsize=(14,5))\n",
        "  sns.barplot(x=methods,y=accuracy)\n",
        "  plt.xlabel('Models')\n",
        "  plt.ylabel('Accuracy %')\n",
        "  plt.title('Models and Accuracy')\n",
        "  plt.show()\n",
        "  print('Respective accuracy:', accuracy)\n",
        "  \n",
        "accuracy()\n",
        "  \n",
        "  "
      ],
      "execution_count": 69,
      "outputs": [
        {
          "output_type": "display_data",
          "data": {
            "image/png": "[encoded data removed]",
            "text/plain": [
              "<Figure size 1008x360 with 1 Axes>"
            ]
          },
          "metadata": {
            "tags": []
          }
        },
        {
          "output_type": "stream",
          "text": [
            "Respective accuracy: [79.12087912087912, 83.51648351648352, 89.01098901098901, 83.51648351648352, 81.31868131868131, 86.81318681318682]\n"
          ],
          "name": "stdout"
        }
      ]
    },
    {
      "metadata": {
        "id": "IhegLPtRCJyK",
        "colab_type": "text"
      },
      "cell_type": "markdown",
      "source": [
        "**Lets select the top 3 models and try on more evaluation metrics**\n",
        "\n",
        "**1.) KNN**\n",
        "\n",
        "**2.) Random Forest & Logistic Regression**\n",
        "\n",
        "**3.) Naive bayes**\n"
      ]
    },
    {
      "metadata": {
        "id": "qMGlg99ZMLaD",
        "colab_type": "code",
        "colab": {
          "base_uri": "https://localhost:8080/",
          "height": 289
        },
        "outputId": "6c800ff4-e366-47f4-95e2-f198eb451d7c"
      },
      "cell_type": "code",
      "source": [
        "def pre_rec():\n",
        "  \n",
        "  print('KNN')\n",
        "  print('precision_score', metrics.precision_score(y_test, prediction_model5))\n",
        "  print('Recall_score', metrics.recall_score(y_test, prediction_model5))\n",
        "  print('----------------------------------------------------------------------')\n",
        "  \n",
        "  print('Random Forest')\n",
        "  print('precision_score', metrics.precision_score(y_test, prediction_model3))\n",
        "  print('Recall_score', metrics.recall_score(y_test, prediction_model3))\n",
        "  print('----------------------------------------------------------------------')\n",
        "  \n",
        "  print('Logistic regression')\n",
        "  print('precision_score', metrics.precision_score(y_test, prediction_model10))\n",
        "  print('Recall_score', metrics.recall_score(y_test, prediction_model10))\n",
        "  print('----------------------------------------------------------------------')\n",
        "  \n",
        "  print('Naive Bayes')\n",
        "  print('precision_score', metrics.precision_score(y_test, prediction_model8))\n",
        "  print('Recall_score', metrics.recall_score(y_test, prediction_model8))\n",
        "  print('----------------------------------------------------------------------')\n",
        "  \n",
        "pre_rec()"
      ],
      "execution_count": 80,
      "outputs": [
        {
          "output_type": "stream",
          "text": [
            "KNN\n",
            "precision_score 0.8846153846153846\n",
            "Recall_score 0.92\n",
            "----------------------------------------------------------------------\n",
            "Random Forest\n",
            "precision_score 0.8571428571428571\n",
            "Recall_score 0.84\n",
            "----------------------------------------------------------------------\n",
            "Logistic regression\n",
            "precision_score 0.88\n",
            "Recall_score 0.88\n",
            "----------------------------------------------------------------------\n",
            "Naive Bayes\n",
            "precision_score 0.8235294117647058\n",
            "Recall_score 0.84\n",
            "----------------------------------------------------------------------\n"
          ],
          "name": "stdout"
        }
      ]
    },
    {
      "metadata": {
        "id": "_gig2VB_KkDi",
        "colab_type": "code",
        "outputId": "b403472d-12a0-45c7-c291-4fdcae20235c",
        "colab": {
          "base_uri": "https://localhost:8080/",
          "height": 765
        }
      },
      "cell_type": "code",
      "source": [
        "def clas_report():\n",
        "  \n",
        "  print('KNN_classification report')\n",
        "  print(classification_report(y_test, prediction_model5))\n",
        "  print('___________________________________________________________')\n",
        "  print('Random Forest report')\n",
        "  print(classification_report(y_test, prediction_model3))\n",
        "  print('___________________________________________________________')\n",
        "  print('Logistic regression report')\n",
        "  print(classification_report(y_test, prediction_model10))\n",
        "  print('___________________________________________________________')\n",
        "  print('Naive Bayes report')\n",
        "  print(classification_report(y_test, prediction_model8))\n",
        "  print('___________________________________________________________')\n",
        "  \n",
        "clas_report()"
      ],
      "execution_count": 70,
      "outputs": [
        {
          "output_type": "stream",
          "text": [
            "KNN_classification report\n",
            "              precision    recall  f1-score   support\n",
            "\n",
            "           0       0.90      0.85      0.88        41\n",
            "           1       0.88      0.92      0.90        50\n",
            "\n",
            "   micro avg       0.89      0.89      0.89        91\n",
            "   macro avg       0.89      0.89      0.89        91\n",
            "weighted avg       0.89      0.89      0.89        91\n",
            "\n",
            "___________________________________________________________\n",
            "Random Forest report\n",
            "              precision    recall  f1-score   support\n",
            "\n",
            "           0       0.81      0.83      0.82        41\n",
            "           1       0.86      0.84      0.85        50\n",
            "\n",
            "   micro avg       0.84      0.84      0.84        91\n",
            "   macro avg       0.83      0.83      0.83        91\n",
            "weighted avg       0.84      0.84      0.84        91\n",
            "\n",
            "___________________________________________________________\n",
            "Logistic regression report\n",
            "              precision    recall  f1-score   support\n",
            "\n",
            "           0       0.85      0.85      0.85        41\n",
            "           1       0.88      0.88      0.88        50\n",
            "\n",
            "   micro avg       0.87      0.87      0.87        91\n",
            "   macro avg       0.87      0.87      0.87        91\n",
            "weighted avg       0.87      0.87      0.87        91\n",
            "\n",
            "___________________________________________________________\n",
            "Naive Bayes report\n",
            "              precision    recall  f1-score   support\n",
            "\n",
            "           0       0.80      0.78      0.79        41\n",
            "           1       0.82      0.84      0.83        50\n",
            "\n",
            "   micro avg       0.81      0.81      0.81        91\n",
            "   macro avg       0.81      0.81      0.81        91\n",
            "weighted avg       0.81      0.81      0.81        91\n",
            "\n",
            "___________________________________________________________\n"
          ],
          "name": "stdout"
        }
      ]
    },
    {
      "metadata": {
        "id": "zdruu_UVAOkY",
        "colab_type": "code",
        "outputId": "952aa3d0-e476-48e5-9be2-c126bd7d0bea",
        "colab": {
          "base_uri": "https://localhost:8080/",
          "height": 715
        }
      },
      "cell_type": "code",
      "source": [
        "def con_matrix():\n",
        "  \n",
        "  plt.figure(figsize=(12,12))\n",
        "\n",
        "  plt.subplots_adjust(wspace = 0.5, hspace=0.2)\n",
        "\n",
        "  plt.subplot(2,2,1)\n",
        "  plt.title('KNN Confusion Matrix')\n",
        "  sns.heatmap(model5_matrix, annot=True, cmap=\"Blues\", fmt=\"d\", cbar=False)\n",
        "\n",
        "  plt.subplot(2,2,2)\n",
        "  plt.title('Random Forest Confusion Matrix')\n",
        "  sns.heatmap(model3_matrix, annot=True, cmap=\"Blues\", fmt=\"d\", cbar=False)\n",
        "\n",
        "  plt.subplot(2,2,3)\n",
        "  plt.title('Logistic regression Confusion Matrix')\n",
        "  sns.heatmap(model10_matrix, annot=True, cmap=\"Blues\", fmt=\"d\", cbar=False)\n",
        "            \n",
        "  plt.subplot(2,2,4)\n",
        "  plt.title('Naive Bayes Confusion Matrix')\n",
        "  sns.heatmap(model8_matrix, annot=True, cmap=\"Blues\", fmt=\"d\", cbar=False)\n",
        "            \n",
        "  plt.show()\n",
        "            \n",
        "con_matrix()            "
      ],
      "execution_count": 71,
      "outputs": [
        {
          "output_type": "display_data",
          "data": {
            "image/png": "[encoded data removed]",
            "text/plain": [
              "<Figure size 864x864 with 4 Axes>"
            ]
          },
          "metadata": {
            "tags": []
          }
        }
      ]
    },
    {
      "metadata": {
        "id": "YNiib8kLMb02",
        "colab_type": "text"
      },
      "cell_type": "markdown",
      "source": [
        "**Evaluating using ROC_AUC Curve for the top 3 models**"
      ]
    },
    {
      "metadata": {
        "id": "evIIAvebI7-w",
        "colab_type": "code",
        "outputId": "facd6cb2-b69a-46ce-ec8e-bf76fc9f8262",
        "colab": {
          "base_uri": "https://localhost:8080/",
          "height": 597
        }
      },
      "cell_type": "code",
      "source": [
        "def metric():\n",
        "  probs1 = Model5.predict_proba(X1_test)\n",
        "  preds1 = probs1[:,1]\n",
        "  fpr1, tpr1, threshold1 = metrics.roc_curve(y1_test, preds1)\n",
        "  roc_auc1 = metrics.auc(fpr1,tpr1)\n",
        "  \n",
        "  probs2 = Model10.predict_proba(X_test)\n",
        "  preds2 = probs2[:,1]\n",
        "  fpr2, tpr2, threshold2 = metrics.roc_curve(y_test, preds2)\n",
        "  roc_auc2 = metrics.auc(fpr2,tpr2)\n",
        "  \n",
        "  probs3 = Model8.predict_proba(X_test)\n",
        "  preds3 = probs3[:,1]\n",
        "  fpr3, tpr3, threshold3 = metrics.roc_curve(y_test, preds3)\n",
        "  roc_auc3 = metrics.auc(fpr3,tpr3)\n",
        "  \n",
        "  \n",
        "  plt.figure(figsize=(14,8))\n",
        "  plt.title('Receiver Operating Characteristic')\n",
        "  plt.plot(fpr1, tpr1, label = 'AUC_KNN = %0.2f' % roc_auc1)\n",
        "  plt.plot(fpr2, tpr2, label = 'AUC_logistic = %0.2f' % roc_auc2)\n",
        "  plt.plot(fpr3, tpr3, label = 'AUC_Naive = %0.2f' % roc_auc3)\n",
        "  plt.legend(loc = 'lower right')\n",
        "  plt.plot([0, 1], [0, 1],'r--')\n",
        "  plt.ylabel('True Positive Rate')\n",
        "  plt.xlabel('False Positive Rate')\n",
        "  plt.show()\n",
        "  print('0.90 - 1.00 = excellent')\n",
        "  print('0.80 - 0.90 = good')\n",
        "  print('0.70 - 0.80 = fair')\n",
        "  print('0.60 - 0.70 = poor')\n",
        "  print('0.50 - 0.60 = fail')\n",
        "   \n",
        "metric()"
      ],
      "execution_count": 74,
      "outputs": [
        {
          "output_type": "display_data",
          "data": {
            "image/png": "[encoded data removed]",
            "text/plain": [
              "<Figure size 1008x576 with 1 Axes>"
            ]
          },
          "metadata": {
            "tags": []
          }
        },
        {
          "output_type": "stream",
          "text": [
            "0.90 - 1.00 = excellent\n",
            "0.80 - 0.90 = good\n",
            "0.70 - 0.80 = fair\n",
            "0.60 - 0.70 = poor\n",
            "0.50 - 0.60 = fail\n"
          ],
          "name": "stdout"
        }
      ]
    },
    {
      "metadata": {
        "id": "gwX1x2pBawcf",
        "colab_type": "text"
      },
      "cell_type": "markdown",
      "source": [
        "**Area Under curve is good for all the 3 models.**\n",
        "\n",
        "**However *K-Nearest Neigbhors* has the best accuracy score and passes very well in all the evaluation metrics**"
      ]
    }
  ]
}